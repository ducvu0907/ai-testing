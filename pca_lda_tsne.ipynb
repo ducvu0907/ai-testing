{
  "cells": [
    {
      "cell_type": "code",
      "execution_count": 81,
      "id": "2f73ea20-a8cd-4922-a418-2f930f0c54fe",
      "metadata": {
        "id": "2f73ea20-a8cd-4922-a418-2f930f0c54fe"
      },
      "outputs": [],
      "source": [
        "import numpy as np\n",
        "import matplotlib.pyplot as plt\n",
        "import pandas as pd"
      ]
    },
    {
      "cell_type": "markdown",
      "id": "39a9b045-cd03-42c2-bdaa-e5c703668872",
      "metadata": {
        "id": "39a9b045-cd03-42c2-bdaa-e5c703668872"
      },
      "source": [
        "# Principal component analysis (PCA)"
      ]
    },
    {
      "cell_type": "code",
      "execution_count": 82,
      "id": "33eb732b-1b24-4e54-8c28-549f4e5c8f19",
      "metadata": {
        "id": "33eb732b-1b24-4e54-8c28-549f4e5c8f19"
      },
      "outputs": [],
      "source": [
        "df = pd.read_csv(\"data/house_prices.csv\")"
      ]
    },
    {
      "cell_type": "code",
      "execution_count": 83,
      "id": "754280ef-922d-4290-8204-f06419035bd5",
      "metadata": {
        "colab": {
          "base_uri": "https://localhost:8080/"
        },
        "id": "754280ef-922d-4290-8204-f06419035bd5",
        "outputId": "1fd24ff6-c68d-4466-8ef8-add6f2649d17"
      },
      "outputs": [
        {
          "output_type": "execute_result",
          "data": {
            "text/plain": [
              "(1460, 81)"
            ]
          },
          "metadata": {},
          "execution_count": 83
        }
      ],
      "source": [
        "df.shape"
      ]
    },
    {
      "cell_type": "code",
      "execution_count": 84,
      "id": "5bf2ae84-800f-4419-9084-da3a34831e70",
      "metadata": {
        "colab": {
          "base_uri": "https://localhost:8080/",
          "height": 443
        },
        "id": "5bf2ae84-800f-4419-9084-da3a34831e70",
        "outputId": "254a28c9-183f-405e-f76f-f83baaa764e2"
      },
      "outputs": [
        {
          "output_type": "execute_result",
          "data": {
            "text/plain": [
              "        Id  MSSubClass MSZoning  LotFrontage  LotArea Street Alley LotShape  \\\n",
              "0        1          60       RL         65.0     8450   Pave   NaN      Reg   \n",
              "1        2          20       RL         80.0     9600   Pave   NaN      Reg   \n",
              "2        3          60       RL         68.0    11250   Pave   NaN      IR1   \n",
              "3        4          70       RL         60.0     9550   Pave   NaN      IR1   \n",
              "4        5          60       RL         84.0    14260   Pave   NaN      IR1   \n",
              "...    ...         ...      ...          ...      ...    ...   ...      ...   \n",
              "1455  1456          60       RL         62.0     7917   Pave   NaN      Reg   \n",
              "1456  1457          20       RL         85.0    13175   Pave   NaN      Reg   \n",
              "1457  1458          70       RL         66.0     9042   Pave   NaN      Reg   \n",
              "1458  1459          20       RL         68.0     9717   Pave   NaN      Reg   \n",
              "1459  1460          20       RL         75.0     9937   Pave   NaN      Reg   \n",
              "\n",
              "     LandContour Utilities  ... PoolArea PoolQC  Fence MiscFeature MiscVal  \\\n",
              "0            Lvl    AllPub  ...        0    NaN    NaN         NaN       0   \n",
              "1            Lvl    AllPub  ...        0    NaN    NaN         NaN       0   \n",
              "2            Lvl    AllPub  ...        0    NaN    NaN         NaN       0   \n",
              "3            Lvl    AllPub  ...        0    NaN    NaN         NaN       0   \n",
              "4            Lvl    AllPub  ...        0    NaN    NaN         NaN       0   \n",
              "...          ...       ...  ...      ...    ...    ...         ...     ...   \n",
              "1455         Lvl    AllPub  ...        0    NaN    NaN         NaN       0   \n",
              "1456         Lvl    AllPub  ...        0    NaN  MnPrv         NaN       0   \n",
              "1457         Lvl    AllPub  ...        0    NaN  GdPrv        Shed    2500   \n",
              "1458         Lvl    AllPub  ...        0    NaN    NaN         NaN       0   \n",
              "1459         Lvl    AllPub  ...        0    NaN    NaN         NaN       0   \n",
              "\n",
              "     MoSold YrSold  SaleType  SaleCondition  SalePrice  \n",
              "0         2   2008        WD         Normal     208500  \n",
              "1         5   2007        WD         Normal     181500  \n",
              "2         9   2008        WD         Normal     223500  \n",
              "3         2   2006        WD        Abnorml     140000  \n",
              "4        12   2008        WD         Normal     250000  \n",
              "...     ...    ...       ...            ...        ...  \n",
              "1455      8   2007        WD         Normal     175000  \n",
              "1456      2   2010        WD         Normal     210000  \n",
              "1457      5   2010        WD         Normal     266500  \n",
              "1458      4   2010        WD         Normal     142125  \n",
              "1459      6   2008        WD         Normal     147500  \n",
              "\n",
              "[1460 rows x 81 columns]"
            ],
            "text/html": [
              "\n",
              "  <div id=\"df-56cdc6ef-fed9-4abb-acb4-60cfdcbcb29d\" class=\"colab-df-container\">\n",
              "    <div>\n",
              "<style scoped>\n",
              "    .dataframe tbody tr th:only-of-type {\n",
              "        vertical-align: middle;\n",
              "    }\n",
              "\n",
              "    .dataframe tbody tr th {\n",
              "        vertical-align: top;\n",
              "    }\n",
              "\n",
              "    .dataframe thead th {\n",
              "        text-align: right;\n",
              "    }\n",
              "</style>\n",
              "<table border=\"1\" class=\"dataframe\">\n",
              "  <thead>\n",
              "    <tr style=\"text-align: right;\">\n",
              "      <th></th>\n",
              "      <th>Id</th>\n",
              "      <th>MSSubClass</th>\n",
              "      <th>MSZoning</th>\n",
              "      <th>LotFrontage</th>\n",
              "      <th>LotArea</th>\n",
              "      <th>Street</th>\n",
              "      <th>Alley</th>\n",
              "      <th>LotShape</th>\n",
              "      <th>LandContour</th>\n",
              "      <th>Utilities</th>\n",
              "      <th>...</th>\n",
              "      <th>PoolArea</th>\n",
              "      <th>PoolQC</th>\n",
              "      <th>Fence</th>\n",
              "      <th>MiscFeature</th>\n",
              "      <th>MiscVal</th>\n",
              "      <th>MoSold</th>\n",
              "      <th>YrSold</th>\n",
              "      <th>SaleType</th>\n",
              "      <th>SaleCondition</th>\n",
              "      <th>SalePrice</th>\n",
              "    </tr>\n",
              "  </thead>\n",
              "  <tbody>\n",
              "    <tr>\n",
              "      <th>0</th>\n",
              "      <td>1</td>\n",
              "      <td>60</td>\n",
              "      <td>RL</td>\n",
              "      <td>65.0</td>\n",
              "      <td>8450</td>\n",
              "      <td>Pave</td>\n",
              "      <td>NaN</td>\n",
              "      <td>Reg</td>\n",
              "      <td>Lvl</td>\n",
              "      <td>AllPub</td>\n",
              "      <td>...</td>\n",
              "      <td>0</td>\n",
              "      <td>NaN</td>\n",
              "      <td>NaN</td>\n",
              "      <td>NaN</td>\n",
              "      <td>0</td>\n",
              "      <td>2</td>\n",
              "      <td>2008</td>\n",
              "      <td>WD</td>\n",
              "      <td>Normal</td>\n",
              "      <td>208500</td>\n",
              "    </tr>\n",
              "    <tr>\n",
              "      <th>1</th>\n",
              "      <td>2</td>\n",
              "      <td>20</td>\n",
              "      <td>RL</td>\n",
              "      <td>80.0</td>\n",
              "      <td>9600</td>\n",
              "      <td>Pave</td>\n",
              "      <td>NaN</td>\n",
              "      <td>Reg</td>\n",
              "      <td>Lvl</td>\n",
              "      <td>AllPub</td>\n",
              "      <td>...</td>\n",
              "      <td>0</td>\n",
              "      <td>NaN</td>\n",
              "      <td>NaN</td>\n",
              "      <td>NaN</td>\n",
              "      <td>0</td>\n",
              "      <td>5</td>\n",
              "      <td>2007</td>\n",
              "      <td>WD</td>\n",
              "      <td>Normal</td>\n",
              "      <td>181500</td>\n",
              "    </tr>\n",
              "    <tr>\n",
              "      <th>2</th>\n",
              "      <td>3</td>\n",
              "      <td>60</td>\n",
              "      <td>RL</td>\n",
              "      <td>68.0</td>\n",
              "      <td>11250</td>\n",
              "      <td>Pave</td>\n",
              "      <td>NaN</td>\n",
              "      <td>IR1</td>\n",
              "      <td>Lvl</td>\n",
              "      <td>AllPub</td>\n",
              "      <td>...</td>\n",
              "      <td>0</td>\n",
              "      <td>NaN</td>\n",
              "      <td>NaN</td>\n",
              "      <td>NaN</td>\n",
              "      <td>0</td>\n",
              "      <td>9</td>\n",
              "      <td>2008</td>\n",
              "      <td>WD</td>\n",
              "      <td>Normal</td>\n",
              "      <td>223500</td>\n",
              "    </tr>\n",
              "    <tr>\n",
              "      <th>3</th>\n",
              "      <td>4</td>\n",
              "      <td>70</td>\n",
              "      <td>RL</td>\n",
              "      <td>60.0</td>\n",
              "      <td>9550</td>\n",
              "      <td>Pave</td>\n",
              "      <td>NaN</td>\n",
              "      <td>IR1</td>\n",
              "      <td>Lvl</td>\n",
              "      <td>AllPub</td>\n",
              "      <td>...</td>\n",
              "      <td>0</td>\n",
              "      <td>NaN</td>\n",
              "      <td>NaN</td>\n",
              "      <td>NaN</td>\n",
              "      <td>0</td>\n",
              "      <td>2</td>\n",
              "      <td>2006</td>\n",
              "      <td>WD</td>\n",
              "      <td>Abnorml</td>\n",
              "      <td>140000</td>\n",
              "    </tr>\n",
              "    <tr>\n",
              "      <th>4</th>\n",
              "      <td>5</td>\n",
              "      <td>60</td>\n",
              "      <td>RL</td>\n",
              "      <td>84.0</td>\n",
              "      <td>14260</td>\n",
              "      <td>Pave</td>\n",
              "      <td>NaN</td>\n",
              "      <td>IR1</td>\n",
              "      <td>Lvl</td>\n",
              "      <td>AllPub</td>\n",
              "      <td>...</td>\n",
              "      <td>0</td>\n",
              "      <td>NaN</td>\n",
              "      <td>NaN</td>\n",
              "      <td>NaN</td>\n",
              "      <td>0</td>\n",
              "      <td>12</td>\n",
              "      <td>2008</td>\n",
              "      <td>WD</td>\n",
              "      <td>Normal</td>\n",
              "      <td>250000</td>\n",
              "    </tr>\n",
              "    <tr>\n",
              "      <th>...</th>\n",
              "      <td>...</td>\n",
              "      <td>...</td>\n",
              "      <td>...</td>\n",
              "      <td>...</td>\n",
              "      <td>...</td>\n",
              "      <td>...</td>\n",
              "      <td>...</td>\n",
              "      <td>...</td>\n",
              "      <td>...</td>\n",
              "      <td>...</td>\n",
              "      <td>...</td>\n",
              "      <td>...</td>\n",
              "      <td>...</td>\n",
              "      <td>...</td>\n",
              "      <td>...</td>\n",
              "      <td>...</td>\n",
              "      <td>...</td>\n",
              "      <td>...</td>\n",
              "      <td>...</td>\n",
              "      <td>...</td>\n",
              "      <td>...</td>\n",
              "    </tr>\n",
              "    <tr>\n",
              "      <th>1455</th>\n",
              "      <td>1456</td>\n",
              "      <td>60</td>\n",
              "      <td>RL</td>\n",
              "      <td>62.0</td>\n",
              "      <td>7917</td>\n",
              "      <td>Pave</td>\n",
              "      <td>NaN</td>\n",
              "      <td>Reg</td>\n",
              "      <td>Lvl</td>\n",
              "      <td>AllPub</td>\n",
              "      <td>...</td>\n",
              "      <td>0</td>\n",
              "      <td>NaN</td>\n",
              "      <td>NaN</td>\n",
              "      <td>NaN</td>\n",
              "      <td>0</td>\n",
              "      <td>8</td>\n",
              "      <td>2007</td>\n",
              "      <td>WD</td>\n",
              "      <td>Normal</td>\n",
              "      <td>175000</td>\n",
              "    </tr>\n",
              "    <tr>\n",
              "      <th>1456</th>\n",
              "      <td>1457</td>\n",
              "      <td>20</td>\n",
              "      <td>RL</td>\n",
              "      <td>85.0</td>\n",
              "      <td>13175</td>\n",
              "      <td>Pave</td>\n",
              "      <td>NaN</td>\n",
              "      <td>Reg</td>\n",
              "      <td>Lvl</td>\n",
              "      <td>AllPub</td>\n",
              "      <td>...</td>\n",
              "      <td>0</td>\n",
              "      <td>NaN</td>\n",
              "      <td>MnPrv</td>\n",
              "      <td>NaN</td>\n",
              "      <td>0</td>\n",
              "      <td>2</td>\n",
              "      <td>2010</td>\n",
              "      <td>WD</td>\n",
              "      <td>Normal</td>\n",
              "      <td>210000</td>\n",
              "    </tr>\n",
              "    <tr>\n",
              "      <th>1457</th>\n",
              "      <td>1458</td>\n",
              "      <td>70</td>\n",
              "      <td>RL</td>\n",
              "      <td>66.0</td>\n",
              "      <td>9042</td>\n",
              "      <td>Pave</td>\n",
              "      <td>NaN</td>\n",
              "      <td>Reg</td>\n",
              "      <td>Lvl</td>\n",
              "      <td>AllPub</td>\n",
              "      <td>...</td>\n",
              "      <td>0</td>\n",
              "      <td>NaN</td>\n",
              "      <td>GdPrv</td>\n",
              "      <td>Shed</td>\n",
              "      <td>2500</td>\n",
              "      <td>5</td>\n",
              "      <td>2010</td>\n",
              "      <td>WD</td>\n",
              "      <td>Normal</td>\n",
              "      <td>266500</td>\n",
              "    </tr>\n",
              "    <tr>\n",
              "      <th>1458</th>\n",
              "      <td>1459</td>\n",
              "      <td>20</td>\n",
              "      <td>RL</td>\n",
              "      <td>68.0</td>\n",
              "      <td>9717</td>\n",
              "      <td>Pave</td>\n",
              "      <td>NaN</td>\n",
              "      <td>Reg</td>\n",
              "      <td>Lvl</td>\n",
              "      <td>AllPub</td>\n",
              "      <td>...</td>\n",
              "      <td>0</td>\n",
              "      <td>NaN</td>\n",
              "      <td>NaN</td>\n",
              "      <td>NaN</td>\n",
              "      <td>0</td>\n",
              "      <td>4</td>\n",
              "      <td>2010</td>\n",
              "      <td>WD</td>\n",
              "      <td>Normal</td>\n",
              "      <td>142125</td>\n",
              "    </tr>\n",
              "    <tr>\n",
              "      <th>1459</th>\n",
              "      <td>1460</td>\n",
              "      <td>20</td>\n",
              "      <td>RL</td>\n",
              "      <td>75.0</td>\n",
              "      <td>9937</td>\n",
              "      <td>Pave</td>\n",
              "      <td>NaN</td>\n",
              "      <td>Reg</td>\n",
              "      <td>Lvl</td>\n",
              "      <td>AllPub</td>\n",
              "      <td>...</td>\n",
              "      <td>0</td>\n",
              "      <td>NaN</td>\n",
              "      <td>NaN</td>\n",
              "      <td>NaN</td>\n",
              "      <td>0</td>\n",
              "      <td>6</td>\n",
              "      <td>2008</td>\n",
              "      <td>WD</td>\n",
              "      <td>Normal</td>\n",
              "      <td>147500</td>\n",
              "    </tr>\n",
              "  </tbody>\n",
              "</table>\n",
              "<p>1460 rows × 81 columns</p>\n",
              "</div>\n",
              "    <div class=\"colab-df-buttons\">\n",
              "\n",
              "  <div class=\"colab-df-container\">\n",
              "    <button class=\"colab-df-convert\" onclick=\"convertToInteractive('df-56cdc6ef-fed9-4abb-acb4-60cfdcbcb29d')\"\n",
              "            title=\"Convert this dataframe to an interactive table.\"\n",
              "            style=\"display:none;\">\n",
              "\n",
              "  <svg xmlns=\"http://www.w3.org/2000/svg\" height=\"24px\" viewBox=\"0 -960 960 960\">\n",
              "    <path d=\"M120-120v-720h720v720H120Zm60-500h600v-160H180v160Zm220 220h160v-160H400v160Zm0 220h160v-160H400v160ZM180-400h160v-160H180v160Zm440 0h160v-160H620v160ZM180-180h160v-160H180v160Zm440 0h160v-160H620v160Z\"/>\n",
              "  </svg>\n",
              "    </button>\n",
              "\n",
              "  <style>\n",
              "    .colab-df-container {\n",
              "      display:flex;\n",
              "      gap: 12px;\n",
              "    }\n",
              "\n",
              "    .colab-df-convert {\n",
              "      background-color: #E8F0FE;\n",
              "      border: none;\n",
              "      border-radius: 50%;\n",
              "      cursor: pointer;\n",
              "      display: none;\n",
              "      fill: #1967D2;\n",
              "      height: 32px;\n",
              "      padding: 0 0 0 0;\n",
              "      width: 32px;\n",
              "    }\n",
              "\n",
              "    .colab-df-convert:hover {\n",
              "      background-color: #E2EBFA;\n",
              "      box-shadow: 0px 1px 2px rgba(60, 64, 67, 0.3), 0px 1px 3px 1px rgba(60, 64, 67, 0.15);\n",
              "      fill: #174EA6;\n",
              "    }\n",
              "\n",
              "    .colab-df-buttons div {\n",
              "      margin-bottom: 4px;\n",
              "    }\n",
              "\n",
              "    [theme=dark] .colab-df-convert {\n",
              "      background-color: #3B4455;\n",
              "      fill: #D2E3FC;\n",
              "    }\n",
              "\n",
              "    [theme=dark] .colab-df-convert:hover {\n",
              "      background-color: #434B5C;\n",
              "      box-shadow: 0px 1px 3px 1px rgba(0, 0, 0, 0.15);\n",
              "      filter: drop-shadow(0px 1px 2px rgba(0, 0, 0, 0.3));\n",
              "      fill: #FFFFFF;\n",
              "    }\n",
              "  </style>\n",
              "\n",
              "    <script>\n",
              "      const buttonEl =\n",
              "        document.querySelector('#df-56cdc6ef-fed9-4abb-acb4-60cfdcbcb29d button.colab-df-convert');\n",
              "      buttonEl.style.display =\n",
              "        google.colab.kernel.accessAllowed ? 'block' : 'none';\n",
              "\n",
              "      async function convertToInteractive(key) {\n",
              "        const element = document.querySelector('#df-56cdc6ef-fed9-4abb-acb4-60cfdcbcb29d');\n",
              "        const dataTable =\n",
              "          await google.colab.kernel.invokeFunction('convertToInteractive',\n",
              "                                                    [key], {});\n",
              "        if (!dataTable) return;\n",
              "\n",
              "        const docLinkHtml = 'Like what you see? Visit the ' +\n",
              "          '<a target=\"_blank\" href=https://colab.research.google.com/notebooks/data_table.ipynb>data table notebook</a>'\n",
              "          + ' to learn more about interactive tables.';\n",
              "        element.innerHTML = '';\n",
              "        dataTable['output_type'] = 'display_data';\n",
              "        await google.colab.output.renderOutput(dataTable, element);\n",
              "        const docLink = document.createElement('div');\n",
              "        docLink.innerHTML = docLinkHtml;\n",
              "        element.appendChild(docLink);\n",
              "      }\n",
              "    </script>\n",
              "  </div>\n",
              "\n",
              "\n",
              "<div id=\"df-6c2c0b13-3028-4c25-bbdd-0ea33a955e32\">\n",
              "  <button class=\"colab-df-quickchart\" onclick=\"quickchart('df-6c2c0b13-3028-4c25-bbdd-0ea33a955e32')\"\n",
              "            title=\"Suggest charts\"\n",
              "            style=\"display:none;\">\n",
              "\n",
              "<svg xmlns=\"http://www.w3.org/2000/svg\" height=\"24px\"viewBox=\"0 0 24 24\"\n",
              "     width=\"24px\">\n",
              "    <g>\n",
              "        <path d=\"M19 3H5c-1.1 0-2 .9-2 2v14c0 1.1.9 2 2 2h14c1.1 0 2-.9 2-2V5c0-1.1-.9-2-2-2zM9 17H7v-7h2v7zm4 0h-2V7h2v10zm4 0h-2v-4h2v4z\"/>\n",
              "    </g>\n",
              "</svg>\n",
              "  </button>\n",
              "\n",
              "<style>\n",
              "  .colab-df-quickchart {\n",
              "      --bg-color: #E8F0FE;\n",
              "      --fill-color: #1967D2;\n",
              "      --hover-bg-color: #E2EBFA;\n",
              "      --hover-fill-color: #174EA6;\n",
              "      --disabled-fill-color: #AAA;\n",
              "      --disabled-bg-color: #DDD;\n",
              "  }\n",
              "\n",
              "  [theme=dark] .colab-df-quickchart {\n",
              "      --bg-color: #3B4455;\n",
              "      --fill-color: #D2E3FC;\n",
              "      --hover-bg-color: #434B5C;\n",
              "      --hover-fill-color: #FFFFFF;\n",
              "      --disabled-bg-color: #3B4455;\n",
              "      --disabled-fill-color: #666;\n",
              "  }\n",
              "\n",
              "  .colab-df-quickchart {\n",
              "    background-color: var(--bg-color);\n",
              "    border: none;\n",
              "    border-radius: 50%;\n",
              "    cursor: pointer;\n",
              "    display: none;\n",
              "    fill: var(--fill-color);\n",
              "    height: 32px;\n",
              "    padding: 0;\n",
              "    width: 32px;\n",
              "  }\n",
              "\n",
              "  .colab-df-quickchart:hover {\n",
              "    background-color: var(--hover-bg-color);\n",
              "    box-shadow: 0 1px 2px rgba(60, 64, 67, 0.3), 0 1px 3px 1px rgba(60, 64, 67, 0.15);\n",
              "    fill: var(--button-hover-fill-color);\n",
              "  }\n",
              "\n",
              "  .colab-df-quickchart-complete:disabled,\n",
              "  .colab-df-quickchart-complete:disabled:hover {\n",
              "    background-color: var(--disabled-bg-color);\n",
              "    fill: var(--disabled-fill-color);\n",
              "    box-shadow: none;\n",
              "  }\n",
              "\n",
              "  .colab-df-spinner {\n",
              "    border: 2px solid var(--fill-color);\n",
              "    border-color: transparent;\n",
              "    border-bottom-color: var(--fill-color);\n",
              "    animation:\n",
              "      spin 1s steps(1) infinite;\n",
              "  }\n",
              "\n",
              "  @keyframes spin {\n",
              "    0% {\n",
              "      border-color: transparent;\n",
              "      border-bottom-color: var(--fill-color);\n",
              "      border-left-color: var(--fill-color);\n",
              "    }\n",
              "    20% {\n",
              "      border-color: transparent;\n",
              "      border-left-color: var(--fill-color);\n",
              "      border-top-color: var(--fill-color);\n",
              "    }\n",
              "    30% {\n",
              "      border-color: transparent;\n",
              "      border-left-color: var(--fill-color);\n",
              "      border-top-color: var(--fill-color);\n",
              "      border-right-color: var(--fill-color);\n",
              "    }\n",
              "    40% {\n",
              "      border-color: transparent;\n",
              "      border-right-color: var(--fill-color);\n",
              "      border-top-color: var(--fill-color);\n",
              "    }\n",
              "    60% {\n",
              "      border-color: transparent;\n",
              "      border-right-color: var(--fill-color);\n",
              "    }\n",
              "    80% {\n",
              "      border-color: transparent;\n",
              "      border-right-color: var(--fill-color);\n",
              "      border-bottom-color: var(--fill-color);\n",
              "    }\n",
              "    90% {\n",
              "      border-color: transparent;\n",
              "      border-bottom-color: var(--fill-color);\n",
              "    }\n",
              "  }\n",
              "</style>\n",
              "\n",
              "  <script>\n",
              "    async function quickchart(key) {\n",
              "      const quickchartButtonEl =\n",
              "        document.querySelector('#' + key + ' button');\n",
              "      quickchartButtonEl.disabled = true;  // To prevent multiple clicks.\n",
              "      quickchartButtonEl.classList.add('colab-df-spinner');\n",
              "      try {\n",
              "        const charts = await google.colab.kernel.invokeFunction(\n",
              "            'suggestCharts', [key], {});\n",
              "      } catch (error) {\n",
              "        console.error('Error during call to suggestCharts:', error);\n",
              "      }\n",
              "      quickchartButtonEl.classList.remove('colab-df-spinner');\n",
              "      quickchartButtonEl.classList.add('colab-df-quickchart-complete');\n",
              "    }\n",
              "    (() => {\n",
              "      let quickchartButtonEl =\n",
              "        document.querySelector('#df-6c2c0b13-3028-4c25-bbdd-0ea33a955e32 button');\n",
              "      quickchartButtonEl.style.display =\n",
              "        google.colab.kernel.accessAllowed ? 'block' : 'none';\n",
              "    })();\n",
              "  </script>\n",
              "</div>\n",
              "\n",
              "  <div id=\"id_648e72d9-8e76-4b03-904b-db5aa7e465e2\">\n",
              "    <style>\n",
              "      .colab-df-generate {\n",
              "        background-color: #E8F0FE;\n",
              "        border: none;\n",
              "        border-radius: 50%;\n",
              "        cursor: pointer;\n",
              "        display: none;\n",
              "        fill: #1967D2;\n",
              "        height: 32px;\n",
              "        padding: 0 0 0 0;\n",
              "        width: 32px;\n",
              "      }\n",
              "\n",
              "      .colab-df-generate:hover {\n",
              "        background-color: #E2EBFA;\n",
              "        box-shadow: 0px 1px 2px rgba(60, 64, 67, 0.3), 0px 1px 3px 1px rgba(60, 64, 67, 0.15);\n",
              "        fill: #174EA6;\n",
              "      }\n",
              "\n",
              "      [theme=dark] .colab-df-generate {\n",
              "        background-color: #3B4455;\n",
              "        fill: #D2E3FC;\n",
              "      }\n",
              "\n",
              "      [theme=dark] .colab-df-generate:hover {\n",
              "        background-color: #434B5C;\n",
              "        box-shadow: 0px 1px 3px 1px rgba(0, 0, 0, 0.15);\n",
              "        filter: drop-shadow(0px 1px 2px rgba(0, 0, 0, 0.3));\n",
              "        fill: #FFFFFF;\n",
              "      }\n",
              "    </style>\n",
              "    <button class=\"colab-df-generate\" onclick=\"generateWithVariable('df')\"\n",
              "            title=\"Generate code using this dataframe.\"\n",
              "            style=\"display:none;\">\n",
              "\n",
              "  <svg xmlns=\"http://www.w3.org/2000/svg\" height=\"24px\"viewBox=\"0 0 24 24\"\n",
              "       width=\"24px\">\n",
              "    <path d=\"M7,19H8.4L18.45,9,17,7.55,7,17.6ZM5,21V16.75L18.45,3.32a2,2,0,0,1,2.83,0l1.4,1.43a1.91,1.91,0,0,1,.58,1.4,1.91,1.91,0,0,1-.58,1.4L9.25,21ZM18.45,9,17,7.55Zm-12,3A5.31,5.31,0,0,0,4.9,8.1,5.31,5.31,0,0,0,1,6.5,5.31,5.31,0,0,0,4.9,4.9,5.31,5.31,0,0,0,6.5,1,5.31,5.31,0,0,0,8.1,4.9,5.31,5.31,0,0,0,12,6.5,5.46,5.46,0,0,0,6.5,12Z\"/>\n",
              "  </svg>\n",
              "    </button>\n",
              "    <script>\n",
              "      (() => {\n",
              "      const buttonEl =\n",
              "        document.querySelector('#id_648e72d9-8e76-4b03-904b-db5aa7e465e2 button.colab-df-generate');\n",
              "      buttonEl.style.display =\n",
              "        google.colab.kernel.accessAllowed ? 'block' : 'none';\n",
              "\n",
              "      buttonEl.onclick = () => {\n",
              "        google.colab.notebook.generateWithVariable('df');\n",
              "      }\n",
              "      })();\n",
              "    </script>\n",
              "  </div>\n",
              "\n",
              "    </div>\n",
              "  </div>\n"
            ],
            "application/vnd.google.colaboratory.intrinsic+json": {
              "type": "dataframe",
              "variable_name": "df"
            }
          },
          "metadata": {},
          "execution_count": 84
        }
      ],
      "source": [
        "df"
      ]
    },
    {
      "cell_type": "code",
      "execution_count": 85,
      "id": "8d26dbdb-7490-469b-8089-749ca7e3ecd7",
      "metadata": {
        "colab": {
          "base_uri": "https://localhost:8080/"
        },
        "id": "8d26dbdb-7490-469b-8089-749ca7e3ecd7",
        "outputId": "1803e760-0194-4b14-a31c-651e268a4636"
      },
      "outputs": [
        {
          "output_type": "execute_result",
          "data": {
            "text/plain": [
              "Index(['Id', 'MSSubClass', 'MSZoning', 'LotFrontage', 'LotArea', 'Street',\n",
              "       'Alley', 'LotShape', 'LandContour', 'Utilities', 'LotConfig',\n",
              "       'LandSlope', 'Neighborhood', 'Condition1', 'Condition2', 'BldgType',\n",
              "       'HouseStyle', 'OverallQual', 'OverallCond', 'YearBuilt', 'YearRemodAdd',\n",
              "       'RoofStyle', 'RoofMatl', 'Exterior1st', 'Exterior2nd', 'MasVnrType',\n",
              "       'MasVnrArea', 'ExterQual', 'ExterCond', 'Foundation', 'BsmtQual',\n",
              "       'BsmtCond', 'BsmtExposure', 'BsmtFinType1', 'BsmtFinSF1',\n",
              "       'BsmtFinType2', 'BsmtFinSF2', 'BsmtUnfSF', 'TotalBsmtSF', 'Heating',\n",
              "       'HeatingQC', 'CentralAir', 'Electrical', '1stFlrSF', '2ndFlrSF',\n",
              "       'LowQualFinSF', 'GrLivArea', 'BsmtFullBath', 'BsmtHalfBath', 'FullBath',\n",
              "       'HalfBath', 'BedroomAbvGr', 'KitchenAbvGr', 'KitchenQual',\n",
              "       'TotRmsAbvGrd', 'Functional', 'Fireplaces', 'FireplaceQu', 'GarageType',\n",
              "       'GarageYrBlt', 'GarageFinish', 'GarageCars', 'GarageArea', 'GarageQual',\n",
              "       'GarageCond', 'PavedDrive', 'WoodDeckSF', 'OpenPorchSF',\n",
              "       'EnclosedPorch', '3SsnPorch', 'ScreenPorch', 'PoolArea', 'PoolQC',\n",
              "       'Fence', 'MiscFeature', 'MiscVal', 'MoSold', 'YrSold', 'SaleType',\n",
              "       'SaleCondition', 'SalePrice'],\n",
              "      dtype='object')"
            ]
          },
          "metadata": {},
          "execution_count": 85
        }
      ],
      "source": [
        "df.columns"
      ]
    },
    {
      "cell_type": "code",
      "execution_count": 86,
      "id": "6ef95d53-c4f6-42c1-a773-cdac359f5c22",
      "metadata": {
        "id": "6ef95d53-c4f6-42c1-a773-cdac359f5c22"
      },
      "outputs": [],
      "source": [
        "X = df.values"
      ]
    },
    {
      "cell_type": "code",
      "execution_count": 87,
      "id": "e9456177-6d08-4754-a2e3-5d6538ba40fe",
      "metadata": {
        "id": "e9456177-6d08-4754-a2e3-5d6538ba40fe"
      },
      "outputs": [],
      "source": [
        "from sklearn.preprocessing import StandardScaler, LabelEncoder"
      ]
    },
    {
      "cell_type": "code",
      "execution_count": 88,
      "id": "e7a1e118-3d48-44d7-8c88-0e96ce05e6b9",
      "metadata": {
        "id": "e7a1e118-3d48-44d7-8c88-0e96ce05e6b9"
      },
      "outputs": [],
      "source": [
        "non_numeric_cols = df.select_dtypes(exclude=[np.number]).columns"
      ]
    },
    {
      "cell_type": "code",
      "execution_count": 89,
      "id": "989e0667-1012-4db4-aa0f-1b416e1640f4",
      "metadata": {
        "colab": {
          "base_uri": "https://localhost:8080/"
        },
        "id": "989e0667-1012-4db4-aa0f-1b416e1640f4",
        "outputId": "d1c30581-edff-4529-8ac1-a3e1d2df8a17"
      },
      "outputs": [
        {
          "output_type": "execute_result",
          "data": {
            "text/plain": [
              "(43,)"
            ]
          },
          "metadata": {},
          "execution_count": 89
        }
      ],
      "source": [
        "non_numeric_cols.shape"
      ]
    },
    {
      "cell_type": "code",
      "execution_count": 90,
      "id": "0851612c-b820-4bdd-8872-3b44731f5375",
      "metadata": {
        "id": "0851612c-b820-4bdd-8872-3b44731f5375"
      },
      "outputs": [],
      "source": [
        "df_numeric = df.drop(columns=non_numeric_cols)"
      ]
    },
    {
      "cell_type": "code",
      "execution_count": 91,
      "id": "84aa9777-ede3-4af5-90b7-2ab1a35781c0",
      "metadata": {
        "colab": {
          "base_uri": "https://localhost:8080/",
          "height": 255
        },
        "id": "84aa9777-ede3-4af5-90b7-2ab1a35781c0",
        "outputId": "ed63de7e-9aeb-4d12-aad4-0cbc9062ac00"
      },
      "outputs": [
        {
          "output_type": "execute_result",
          "data": {
            "text/plain": [
              "   Id  MSSubClass  LotFrontage  LotArea  OverallQual  OverallCond  YearBuilt  \\\n",
              "0   1          60         65.0     8450            7            5       2003   \n",
              "1   2          20         80.0     9600            6            8       1976   \n",
              "2   3          60         68.0    11250            7            5       2001   \n",
              "3   4          70         60.0     9550            7            5       1915   \n",
              "4   5          60         84.0    14260            8            5       2000   \n",
              "\n",
              "   YearRemodAdd  MasVnrArea  BsmtFinSF1  ...  WoodDeckSF  OpenPorchSF  \\\n",
              "0          2003       196.0         706  ...           0           61   \n",
              "1          1976         0.0         978  ...         298            0   \n",
              "2          2002       162.0         486  ...           0           42   \n",
              "3          1970         0.0         216  ...           0           35   \n",
              "4          2000       350.0         655  ...         192           84   \n",
              "\n",
              "   EnclosedPorch  3SsnPorch  ScreenPorch  PoolArea  MiscVal  MoSold  YrSold  \\\n",
              "0              0          0            0         0        0       2    2008   \n",
              "1              0          0            0         0        0       5    2007   \n",
              "2              0          0            0         0        0       9    2008   \n",
              "3            272          0            0         0        0       2    2006   \n",
              "4              0          0            0         0        0      12    2008   \n",
              "\n",
              "   SalePrice  \n",
              "0     208500  \n",
              "1     181500  \n",
              "2     223500  \n",
              "3     140000  \n",
              "4     250000  \n",
              "\n",
              "[5 rows x 38 columns]"
            ],
            "text/html": [
              "\n",
              "  <div id=\"df-da52795a-ed53-4a17-ac76-237d29656d71\" class=\"colab-df-container\">\n",
              "    <div>\n",
              "<style scoped>\n",
              "    .dataframe tbody tr th:only-of-type {\n",
              "        vertical-align: middle;\n",
              "    }\n",
              "\n",
              "    .dataframe tbody tr th {\n",
              "        vertical-align: top;\n",
              "    }\n",
              "\n",
              "    .dataframe thead th {\n",
              "        text-align: right;\n",
              "    }\n",
              "</style>\n",
              "<table border=\"1\" class=\"dataframe\">\n",
              "  <thead>\n",
              "    <tr style=\"text-align: right;\">\n",
              "      <th></th>\n",
              "      <th>Id</th>\n",
              "      <th>MSSubClass</th>\n",
              "      <th>LotFrontage</th>\n",
              "      <th>LotArea</th>\n",
              "      <th>OverallQual</th>\n",
              "      <th>OverallCond</th>\n",
              "      <th>YearBuilt</th>\n",
              "      <th>YearRemodAdd</th>\n",
              "      <th>MasVnrArea</th>\n",
              "      <th>BsmtFinSF1</th>\n",
              "      <th>...</th>\n",
              "      <th>WoodDeckSF</th>\n",
              "      <th>OpenPorchSF</th>\n",
              "      <th>EnclosedPorch</th>\n",
              "      <th>3SsnPorch</th>\n",
              "      <th>ScreenPorch</th>\n",
              "      <th>PoolArea</th>\n",
              "      <th>MiscVal</th>\n",
              "      <th>MoSold</th>\n",
              "      <th>YrSold</th>\n",
              "      <th>SalePrice</th>\n",
              "    </tr>\n",
              "  </thead>\n",
              "  <tbody>\n",
              "    <tr>\n",
              "      <th>0</th>\n",
              "      <td>1</td>\n",
              "      <td>60</td>\n",
              "      <td>65.0</td>\n",
              "      <td>8450</td>\n",
              "      <td>7</td>\n",
              "      <td>5</td>\n",
              "      <td>2003</td>\n",
              "      <td>2003</td>\n",
              "      <td>196.0</td>\n",
              "      <td>706</td>\n",
              "      <td>...</td>\n",
              "      <td>0</td>\n",
              "      <td>61</td>\n",
              "      <td>0</td>\n",
              "      <td>0</td>\n",
              "      <td>0</td>\n",
              "      <td>0</td>\n",
              "      <td>0</td>\n",
              "      <td>2</td>\n",
              "      <td>2008</td>\n",
              "      <td>208500</td>\n",
              "    </tr>\n",
              "    <tr>\n",
              "      <th>1</th>\n",
              "      <td>2</td>\n",
              "      <td>20</td>\n",
              "      <td>80.0</td>\n",
              "      <td>9600</td>\n",
              "      <td>6</td>\n",
              "      <td>8</td>\n",
              "      <td>1976</td>\n",
              "      <td>1976</td>\n",
              "      <td>0.0</td>\n",
              "      <td>978</td>\n",
              "      <td>...</td>\n",
              "      <td>298</td>\n",
              "      <td>0</td>\n",
              "      <td>0</td>\n",
              "      <td>0</td>\n",
              "      <td>0</td>\n",
              "      <td>0</td>\n",
              "      <td>0</td>\n",
              "      <td>5</td>\n",
              "      <td>2007</td>\n",
              "      <td>181500</td>\n",
              "    </tr>\n",
              "    <tr>\n",
              "      <th>2</th>\n",
              "      <td>3</td>\n",
              "      <td>60</td>\n",
              "      <td>68.0</td>\n",
              "      <td>11250</td>\n",
              "      <td>7</td>\n",
              "      <td>5</td>\n",
              "      <td>2001</td>\n",
              "      <td>2002</td>\n",
              "      <td>162.0</td>\n",
              "      <td>486</td>\n",
              "      <td>...</td>\n",
              "      <td>0</td>\n",
              "      <td>42</td>\n",
              "      <td>0</td>\n",
              "      <td>0</td>\n",
              "      <td>0</td>\n",
              "      <td>0</td>\n",
              "      <td>0</td>\n",
              "      <td>9</td>\n",
              "      <td>2008</td>\n",
              "      <td>223500</td>\n",
              "    </tr>\n",
              "    <tr>\n",
              "      <th>3</th>\n",
              "      <td>4</td>\n",
              "      <td>70</td>\n",
              "      <td>60.0</td>\n",
              "      <td>9550</td>\n",
              "      <td>7</td>\n",
              "      <td>5</td>\n",
              "      <td>1915</td>\n",
              "      <td>1970</td>\n",
              "      <td>0.0</td>\n",
              "      <td>216</td>\n",
              "      <td>...</td>\n",
              "      <td>0</td>\n",
              "      <td>35</td>\n",
              "      <td>272</td>\n",
              "      <td>0</td>\n",
              "      <td>0</td>\n",
              "      <td>0</td>\n",
              "      <td>0</td>\n",
              "      <td>2</td>\n",
              "      <td>2006</td>\n",
              "      <td>140000</td>\n",
              "    </tr>\n",
              "    <tr>\n",
              "      <th>4</th>\n",
              "      <td>5</td>\n",
              "      <td>60</td>\n",
              "      <td>84.0</td>\n",
              "      <td>14260</td>\n",
              "      <td>8</td>\n",
              "      <td>5</td>\n",
              "      <td>2000</td>\n",
              "      <td>2000</td>\n",
              "      <td>350.0</td>\n",
              "      <td>655</td>\n",
              "      <td>...</td>\n",
              "      <td>192</td>\n",
              "      <td>84</td>\n",
              "      <td>0</td>\n",
              "      <td>0</td>\n",
              "      <td>0</td>\n",
              "      <td>0</td>\n",
              "      <td>0</td>\n",
              "      <td>12</td>\n",
              "      <td>2008</td>\n",
              "      <td>250000</td>\n",
              "    </tr>\n",
              "  </tbody>\n",
              "</table>\n",
              "<p>5 rows × 38 columns</p>\n",
              "</div>\n",
              "    <div class=\"colab-df-buttons\">\n",
              "\n",
              "  <div class=\"colab-df-container\">\n",
              "    <button class=\"colab-df-convert\" onclick=\"convertToInteractive('df-da52795a-ed53-4a17-ac76-237d29656d71')\"\n",
              "            title=\"Convert this dataframe to an interactive table.\"\n",
              "            style=\"display:none;\">\n",
              "\n",
              "  <svg xmlns=\"http://www.w3.org/2000/svg\" height=\"24px\" viewBox=\"0 -960 960 960\">\n",
              "    <path d=\"M120-120v-720h720v720H120Zm60-500h600v-160H180v160Zm220 220h160v-160H400v160Zm0 220h160v-160H400v160ZM180-400h160v-160H180v160Zm440 0h160v-160H620v160ZM180-180h160v-160H180v160Zm440 0h160v-160H620v160Z\"/>\n",
              "  </svg>\n",
              "    </button>\n",
              "\n",
              "  <style>\n",
              "    .colab-df-container {\n",
              "      display:flex;\n",
              "      gap: 12px;\n",
              "    }\n",
              "\n",
              "    .colab-df-convert {\n",
              "      background-color: #E8F0FE;\n",
              "      border: none;\n",
              "      border-radius: 50%;\n",
              "      cursor: pointer;\n",
              "      display: none;\n",
              "      fill: #1967D2;\n",
              "      height: 32px;\n",
              "      padding: 0 0 0 0;\n",
              "      width: 32px;\n",
              "    }\n",
              "\n",
              "    .colab-df-convert:hover {\n",
              "      background-color: #E2EBFA;\n",
              "      box-shadow: 0px 1px 2px rgba(60, 64, 67, 0.3), 0px 1px 3px 1px rgba(60, 64, 67, 0.15);\n",
              "      fill: #174EA6;\n",
              "    }\n",
              "\n",
              "    .colab-df-buttons div {\n",
              "      margin-bottom: 4px;\n",
              "    }\n",
              "\n",
              "    [theme=dark] .colab-df-convert {\n",
              "      background-color: #3B4455;\n",
              "      fill: #D2E3FC;\n",
              "    }\n",
              "\n",
              "    [theme=dark] .colab-df-convert:hover {\n",
              "      background-color: #434B5C;\n",
              "      box-shadow: 0px 1px 3px 1px rgba(0, 0, 0, 0.15);\n",
              "      filter: drop-shadow(0px 1px 2px rgba(0, 0, 0, 0.3));\n",
              "      fill: #FFFFFF;\n",
              "    }\n",
              "  </style>\n",
              "\n",
              "    <script>\n",
              "      const buttonEl =\n",
              "        document.querySelector('#df-da52795a-ed53-4a17-ac76-237d29656d71 button.colab-df-convert');\n",
              "      buttonEl.style.display =\n",
              "        google.colab.kernel.accessAllowed ? 'block' : 'none';\n",
              "\n",
              "      async function convertToInteractive(key) {\n",
              "        const element = document.querySelector('#df-da52795a-ed53-4a17-ac76-237d29656d71');\n",
              "        const dataTable =\n",
              "          await google.colab.kernel.invokeFunction('convertToInteractive',\n",
              "                                                    [key], {});\n",
              "        if (!dataTable) return;\n",
              "\n",
              "        const docLinkHtml = 'Like what you see? Visit the ' +\n",
              "          '<a target=\"_blank\" href=https://colab.research.google.com/notebooks/data_table.ipynb>data table notebook</a>'\n",
              "          + ' to learn more about interactive tables.';\n",
              "        element.innerHTML = '';\n",
              "        dataTable['output_type'] = 'display_data';\n",
              "        await google.colab.output.renderOutput(dataTable, element);\n",
              "        const docLink = document.createElement('div');\n",
              "        docLink.innerHTML = docLinkHtml;\n",
              "        element.appendChild(docLink);\n",
              "      }\n",
              "    </script>\n",
              "  </div>\n",
              "\n",
              "\n",
              "<div id=\"df-7043051e-4ca4-4ca0-b6c2-a83bb9f62f10\">\n",
              "  <button class=\"colab-df-quickchart\" onclick=\"quickchart('df-7043051e-4ca4-4ca0-b6c2-a83bb9f62f10')\"\n",
              "            title=\"Suggest charts\"\n",
              "            style=\"display:none;\">\n",
              "\n",
              "<svg xmlns=\"http://www.w3.org/2000/svg\" height=\"24px\"viewBox=\"0 0 24 24\"\n",
              "     width=\"24px\">\n",
              "    <g>\n",
              "        <path d=\"M19 3H5c-1.1 0-2 .9-2 2v14c0 1.1.9 2 2 2h14c1.1 0 2-.9 2-2V5c0-1.1-.9-2-2-2zM9 17H7v-7h2v7zm4 0h-2V7h2v10zm4 0h-2v-4h2v4z\"/>\n",
              "    </g>\n",
              "</svg>\n",
              "  </button>\n",
              "\n",
              "<style>\n",
              "  .colab-df-quickchart {\n",
              "      --bg-color: #E8F0FE;\n",
              "      --fill-color: #1967D2;\n",
              "      --hover-bg-color: #E2EBFA;\n",
              "      --hover-fill-color: #174EA6;\n",
              "      --disabled-fill-color: #AAA;\n",
              "      --disabled-bg-color: #DDD;\n",
              "  }\n",
              "\n",
              "  [theme=dark] .colab-df-quickchart {\n",
              "      --bg-color: #3B4455;\n",
              "      --fill-color: #D2E3FC;\n",
              "      --hover-bg-color: #434B5C;\n",
              "      --hover-fill-color: #FFFFFF;\n",
              "      --disabled-bg-color: #3B4455;\n",
              "      --disabled-fill-color: #666;\n",
              "  }\n",
              "\n",
              "  .colab-df-quickchart {\n",
              "    background-color: var(--bg-color);\n",
              "    border: none;\n",
              "    border-radius: 50%;\n",
              "    cursor: pointer;\n",
              "    display: none;\n",
              "    fill: var(--fill-color);\n",
              "    height: 32px;\n",
              "    padding: 0;\n",
              "    width: 32px;\n",
              "  }\n",
              "\n",
              "  .colab-df-quickchart:hover {\n",
              "    background-color: var(--hover-bg-color);\n",
              "    box-shadow: 0 1px 2px rgba(60, 64, 67, 0.3), 0 1px 3px 1px rgba(60, 64, 67, 0.15);\n",
              "    fill: var(--button-hover-fill-color);\n",
              "  }\n",
              "\n",
              "  .colab-df-quickchart-complete:disabled,\n",
              "  .colab-df-quickchart-complete:disabled:hover {\n",
              "    background-color: var(--disabled-bg-color);\n",
              "    fill: var(--disabled-fill-color);\n",
              "    box-shadow: none;\n",
              "  }\n",
              "\n",
              "  .colab-df-spinner {\n",
              "    border: 2px solid var(--fill-color);\n",
              "    border-color: transparent;\n",
              "    border-bottom-color: var(--fill-color);\n",
              "    animation:\n",
              "      spin 1s steps(1) infinite;\n",
              "  }\n",
              "\n",
              "  @keyframes spin {\n",
              "    0% {\n",
              "      border-color: transparent;\n",
              "      border-bottom-color: var(--fill-color);\n",
              "      border-left-color: var(--fill-color);\n",
              "    }\n",
              "    20% {\n",
              "      border-color: transparent;\n",
              "      border-left-color: var(--fill-color);\n",
              "      border-top-color: var(--fill-color);\n",
              "    }\n",
              "    30% {\n",
              "      border-color: transparent;\n",
              "      border-left-color: var(--fill-color);\n",
              "      border-top-color: var(--fill-color);\n",
              "      border-right-color: var(--fill-color);\n",
              "    }\n",
              "    40% {\n",
              "      border-color: transparent;\n",
              "      border-right-color: var(--fill-color);\n",
              "      border-top-color: var(--fill-color);\n",
              "    }\n",
              "    60% {\n",
              "      border-color: transparent;\n",
              "      border-right-color: var(--fill-color);\n",
              "    }\n",
              "    80% {\n",
              "      border-color: transparent;\n",
              "      border-right-color: var(--fill-color);\n",
              "      border-bottom-color: var(--fill-color);\n",
              "    }\n",
              "    90% {\n",
              "      border-color: transparent;\n",
              "      border-bottom-color: var(--fill-color);\n",
              "    }\n",
              "  }\n",
              "</style>\n",
              "\n",
              "  <script>\n",
              "    async function quickchart(key) {\n",
              "      const quickchartButtonEl =\n",
              "        document.querySelector('#' + key + ' button');\n",
              "      quickchartButtonEl.disabled = true;  // To prevent multiple clicks.\n",
              "      quickchartButtonEl.classList.add('colab-df-spinner');\n",
              "      try {\n",
              "        const charts = await google.colab.kernel.invokeFunction(\n",
              "            'suggestCharts', [key], {});\n",
              "      } catch (error) {\n",
              "        console.error('Error during call to suggestCharts:', error);\n",
              "      }\n",
              "      quickchartButtonEl.classList.remove('colab-df-spinner');\n",
              "      quickchartButtonEl.classList.add('colab-df-quickchart-complete');\n",
              "    }\n",
              "    (() => {\n",
              "      let quickchartButtonEl =\n",
              "        document.querySelector('#df-7043051e-4ca4-4ca0-b6c2-a83bb9f62f10 button');\n",
              "      quickchartButtonEl.style.display =\n",
              "        google.colab.kernel.accessAllowed ? 'block' : 'none';\n",
              "    })();\n",
              "  </script>\n",
              "</div>\n",
              "\n",
              "    </div>\n",
              "  </div>\n"
            ],
            "application/vnd.google.colaboratory.intrinsic+json": {
              "type": "dataframe",
              "variable_name": "df_numeric"
            }
          },
          "metadata": {},
          "execution_count": 91
        }
      ],
      "source": [
        "df_numeric.head()"
      ]
    },
    {
      "cell_type": "code",
      "execution_count": 92,
      "id": "de3a5a4d-0901-4381-afde-1d13443ec8fd",
      "metadata": {
        "colab": {
          "base_uri": "https://localhost:8080/"
        },
        "id": "de3a5a4d-0901-4381-afde-1d13443ec8fd",
        "outputId": "41ae8a74-4e81-45cb-c67a-26cd2dc03370"
      },
      "outputs": [
        {
          "output_type": "execute_result",
          "data": {
            "text/plain": [
              "(1460, 38)"
            ]
          },
          "metadata": {},
          "execution_count": 92
        }
      ],
      "source": [
        "df_numeric.shape"
      ]
    },
    {
      "cell_type": "code",
      "execution_count": 93,
      "id": "4666955d-f8aa-4c88-ad99-714d7d4dd1b5",
      "metadata": {
        "id": "4666955d-f8aa-4c88-ad99-714d7d4dd1b5"
      },
      "outputs": [],
      "source": [
        "df_numeric.dropna(inplace=True)"
      ]
    },
    {
      "cell_type": "code",
      "execution_count": 94,
      "id": "b6fb56c0-d6a9-4ec9-9ec5-8d144b7c1bfa",
      "metadata": {
        "id": "b6fb56c0-d6a9-4ec9-9ec5-8d144b7c1bfa"
      },
      "outputs": [],
      "source": [
        "labels = df_numeric[\"SalePrice\"]"
      ]
    },
    {
      "cell_type": "code",
      "execution_count": 95,
      "id": "e2e99085-e27e-41a8-bb62-ab8cf004f2a2",
      "metadata": {
        "id": "e2e99085-e27e-41a8-bb62-ab8cf004f2a2"
      },
      "outputs": [],
      "source": [
        "df_numeric.drop([\"SalePrice\"], axis=1, inplace=True)"
      ]
    },
    {
      "cell_type": "code",
      "execution_count": 96,
      "id": "c4103476-b9bc-4084-b712-be91437bdca1",
      "metadata": {
        "id": "c4103476-b9bc-4084-b712-be91437bdca1"
      },
      "outputs": [],
      "source": [
        "X = df_numeric.values"
      ]
    },
    {
      "cell_type": "code",
      "execution_count": 97,
      "id": "5b3f5018-fdb8-495d-b606-e336c3332af2",
      "metadata": {
        "id": "5b3f5018-fdb8-495d-b606-e336c3332af2"
      },
      "outputs": [],
      "source": [
        "scaler = StandardScaler()"
      ]
    },
    {
      "cell_type": "code",
      "execution_count": 98,
      "id": "9ee96580-d8c1-4461-a99f-0c2ed6632ceb",
      "metadata": {
        "id": "9ee96580-d8c1-4461-a99f-0c2ed6632ceb"
      },
      "outputs": [],
      "source": [
        "X_scaled = scaler.fit_transform(X)"
      ]
    },
    {
      "cell_type": "code",
      "execution_count": 99,
      "id": "3cd9baba-96f2-4249-9d41-b06ecb36dd70",
      "metadata": {
        "colab": {
          "base_uri": "https://localhost:8080/"
        },
        "id": "3cd9baba-96f2-4249-9d41-b06ecb36dd70",
        "outputId": "5de69e57-32a8-4079-c874-f62d4b7b5f74"
      },
      "outputs": [
        {
          "output_type": "execute_result",
          "data": {
            "text/plain": [
              "array([[-1.72580691,  0.09229529, -0.23357027, ..., -0.14140664,\n",
              "        -1.61534509,  0.15308355],\n",
              "       [-1.72342925, -0.86569565,  0.38483378, ..., -0.14140664,\n",
              "        -0.49871497, -0.59629052],\n",
              "       [-1.72105159,  0.09229529, -0.10988946, ..., -0.14140664,\n",
              "         0.99012519,  0.15308355],\n",
              "       ...,\n",
              "       [ 1.73844606,  0.33179303, -0.19234334, ..., 14.94738799,\n",
              "        -0.49871497,  1.65183171],\n",
              "       [ 1.74082372, -0.86569565, -0.10988946, ..., -0.14140664,\n",
              "        -0.87092501,  1.65183171],\n",
              "       [ 1.74320138, -0.86569565,  0.17869909, ..., -0.14140664,\n",
              "        -0.12650493,  0.15308355]])"
            ]
          },
          "metadata": {},
          "execution_count": 99
        }
      ],
      "source": [
        "X_scaled"
      ]
    },
    {
      "cell_type": "code",
      "execution_count": 100,
      "id": "b2a34ce2-bab7-4f5a-89ce-6ce90841186c",
      "metadata": {
        "id": "b2a34ce2-bab7-4f5a-89ce-6ce90841186c"
      },
      "outputs": [],
      "source": [
        "cov_matrix = np.cov(X_scaled, rowvar=False)"
      ]
    },
    {
      "cell_type": "code",
      "execution_count": 101,
      "id": "3716a1f4-b74e-4a63-a9bf-ca866278d7b0",
      "metadata": {
        "colab": {
          "base_uri": "https://localhost:8080/"
        },
        "id": "3716a1f4-b74e-4a63-a9bf-ca866278d7b0",
        "outputId": "a068cae6-ad5c-42bb-93ae-c8cfcf76db68"
      },
      "outputs": [
        {
          "output_type": "execute_result",
          "data": {
            "text/plain": [
              "array([[ 1.00089286e+00,  2.19570656e-02, -1.33004348e-02, ...,\n",
              "         4.58399916e-02, -5.70377412e-04,  1.34186136e-02],\n",
              "       [ 2.19570656e-02,  1.00089286e+00, -3.87285055e-01, ...,\n",
              "        -4.07250021e-02, -2.71946418e-02, -1.24589432e-02],\n",
              "       [-1.33004348e-02, -3.87285055e-01,  1.00089286e+00, ...,\n",
              "         1.47205086e-03,  1.88313334e-02,  1.32789166e-02],\n",
              "       ...,\n",
              "       [ 4.58399916e-02, -4.07250021e-02,  1.47205086e-03, ...,\n",
              "         1.00089286e+00,  2.00849786e-02,  3.41365311e-02],\n",
              "       [-5.70377412e-04, -2.71946418e-02,  1.88313334e-02, ...,\n",
              "         2.00849786e-02,  1.00089286e+00, -1.50711056e-01],\n",
              "       [ 1.34186136e-02, -1.24589432e-02,  1.32789166e-02, ...,\n",
              "         3.41365311e-02, -1.50711056e-01,  1.00089286e+00]])"
            ]
          },
          "metadata": {},
          "execution_count": 101
        }
      ],
      "source": [
        "cov_matrix"
      ]
    },
    {
      "cell_type": "code",
      "execution_count": 102,
      "id": "81020b5a-6abc-4a44-b92a-168632a34f13",
      "metadata": {
        "id": "81020b5a-6abc-4a44-b92a-168632a34f13"
      },
      "outputs": [],
      "source": [
        "eigenvalues, eigenvectors = np.linalg.eigh(cov_matrix)"
      ]
    },
    {
      "cell_type": "code",
      "execution_count": 103,
      "id": "af5e4abf-a347-40d6-8651-53be9d28e439",
      "metadata": {
        "colab": {
          "base_uri": "https://localhost:8080/"
        },
        "id": "af5e4abf-a347-40d6-8651-53be9d28e439",
        "outputId": "700e490f-da5a-4d77-e367-7578b59ff5f1"
      },
      "outputs": [
        {
          "output_type": "execute_result",
          "data": {
            "text/plain": [
              "array([-6.35674934e-16, -5.64607328e-16,  1.03816125e-01,  1.20983035e-01,\n",
              "        1.41362270e-01,  1.74763290e-01,  2.05518560e-01,  2.50064734e-01,\n",
              "        2.61835645e-01,  3.09921470e-01,  3.79108617e-01,  3.88666788e-01,\n",
              "        4.70638034e-01,  5.28738026e-01,  6.02694558e-01,  6.45487783e-01,\n",
              "        6.85225790e-01,  7.46917165e-01,  7.62354586e-01,  7.89561893e-01,\n",
              "        8.42468163e-01,  8.92281098e-01,  9.15330184e-01,  9.23529989e-01,\n",
              "        1.02504068e+00,  1.03645740e+00,  1.07465358e+00,  1.10585208e+00,\n",
              "        1.13016089e+00,  1.14200795e+00,  1.22406819e+00,  1.25840387e+00,\n",
              "        1.51945851e+00,  2.04011056e+00,  2.70573401e+00,  3.16133329e+00,\n",
              "        7.46848691e+00])"
            ]
          },
          "metadata": {},
          "execution_count": 103
        }
      ],
      "source": [
        "eigenvalues"
      ]
    },
    {
      "cell_type": "code",
      "execution_count": 104,
      "id": "2a718524-7957-443b-a7e1-98919afa8e94",
      "metadata": {
        "id": "2a718524-7957-443b-a7e1-98919afa8e94"
      },
      "outputs": [],
      "source": [
        "sorted_indices = np.argsort(eigenvalues)[::-1]"
      ]
    },
    {
      "cell_type": "code",
      "execution_count": 105,
      "id": "9439eba1-ee81-40c7-a605-1fc0bd0d1a29",
      "metadata": {
        "id": "9439eba1-ee81-40c7-a605-1fc0bd0d1a29"
      },
      "outputs": [],
      "source": [
        "eigenvalues = eigenvalues[sorted_indices]"
      ]
    },
    {
      "cell_type": "code",
      "execution_count": 106,
      "id": "1fa47a0f-2227-4907-a0b2-7330c4ebed7e",
      "metadata": {
        "id": "1fa47a0f-2227-4907-a0b2-7330c4ebed7e"
      },
      "outputs": [],
      "source": [
        "eigenvectors = eigenvectors[:, sorted_indices]"
      ]
    },
    {
      "cell_type": "code",
      "execution_count": 107,
      "id": "07cc5aa1-f0e6-4147-84ab-3bc0a4c6f137",
      "metadata": {
        "colab": {
          "base_uri": "https://localhost:8080/"
        },
        "id": "07cc5aa1-f0e6-4147-84ab-3bc0a4c6f137",
        "outputId": "69a95fb1-69bf-4946-c57f-25a95657fac4"
      },
      "outputs": [
        {
          "output_type": "execute_result",
          "data": {
            "text/plain": [
              "(37, 37)"
            ]
          },
          "metadata": {},
          "execution_count": 107
        }
      ],
      "source": [
        "eigenvectors.shape"
      ]
    },
    {
      "cell_type": "code",
      "execution_count": 108,
      "id": "98164c05-95a6-49d2-a28a-c4e7843f3c17",
      "metadata": {
        "colab": {
          "base_uri": "https://localhost:8080/"
        },
        "id": "98164c05-95a6-49d2-a28a-c4e7843f3c17",
        "outputId": "e06167bf-3913-4a68-b1ae-0b309935e9e0"
      },
      "outputs": [
        {
          "output_type": "execute_result",
          "data": {
            "text/plain": [
              "array([ 7.46848691e+00,  3.16133329e+00,  2.70573401e+00,  2.04011056e+00,\n",
              "        1.51945851e+00,  1.25840387e+00,  1.22406819e+00,  1.14200795e+00,\n",
              "        1.13016089e+00,  1.10585208e+00,  1.07465358e+00,  1.03645740e+00,\n",
              "        1.02504068e+00,  9.23529989e-01,  9.15330184e-01,  8.92281098e-01,\n",
              "        8.42468163e-01,  7.89561893e-01,  7.62354586e-01,  7.46917165e-01,\n",
              "        6.85225790e-01,  6.45487783e-01,  6.02694558e-01,  5.28738026e-01,\n",
              "        4.70638034e-01,  3.88666788e-01,  3.79108617e-01,  3.09921470e-01,\n",
              "        2.61835645e-01,  2.50064734e-01,  2.05518560e-01,  1.74763290e-01,\n",
              "        1.41362270e-01,  1.20983035e-01,  1.03816125e-01, -5.64607328e-16,\n",
              "       -6.35674934e-16])"
            ]
          },
          "metadata": {},
          "execution_count": 108
        }
      ],
      "source": [
        "eigenvalues"
      ]
    },
    {
      "cell_type": "code",
      "execution_count": 109,
      "id": "f7a77d0d-28ba-4a3c-9dad-7ed6627b6d86",
      "metadata": {
        "id": "f7a77d0d-28ba-4a3c-9dad-7ed6627b6d86"
      },
      "outputs": [],
      "source": [
        "def pca(X_scaled, eigenvectors, eigenvalues, n_components=2):\n",
        "    sort_indices = np.argsort(eigenvalues)[::-1]\n",
        "    desc_eigenvalues, desc_eigenvectors = eigenvalues[sort_indices], eigenvectors[sort_indices]\n",
        "    X_pca = X_scaled.dot(desc_eigenvectors[:, :n_components])\n",
        "    if n_components == 1:\n",
        "        plt.hlines(1,1,20)\n",
        "        plt.eventplot(X_pca.flatten(), orientation='horizontal', colors='b')\n",
        "        plt.axis('off')\n",
        "        plt.show()\n",
        "    elif n_components == 2:\n",
        "        plt.scatter(X_pca[:, 0], X_pca[:, 1])\n",
        "        plt.xlabel(\"PC1\")\n",
        "        plt.xlabel(\"PC2\")\n",
        "        plt.show()\n",
        "    elif n_components == 3:\n",
        "        from mpl_toolkits.mplot3d import Axes3D\n",
        "        fig = plt.figure()\n",
        "        ax = fig.add_subplot(111, projection='3d')\n",
        "        ax.scatter(X_pca[:, 0], X_pca[:, 1], X_pca[:, 2])\n",
        "        ax.set_xlabel('PC1')\n",
        "        ax.set_ylabel('PC2')\n",
        "        ax.set_zlabel('PC3')\n",
        "        plt.show()\n",
        "\n",
        "    return X_pca"
      ]
    },
    {
      "cell_type": "code",
      "execution_count": 110,
      "id": "9a98b4cb-e5df-483f-b851-2edf7ab8f5b1",
      "metadata": {
        "colab": {
          "base_uri": "https://localhost:8080/",
          "height": 449
        },
        "id": "9a98b4cb-e5df-483f-b851-2edf7ab8f5b1",
        "outputId": "53649b89-e93f-4f0e-a8e6-e23c60ca6591"
      },
      "outputs": [
        {
          "output_type": "display_data",
          "data": {
            "text/plain": [
              "<Figure size 640x480 with 1 Axes>"
            ],
            "image/png": "[encoded data removed]"
          },
          "metadata": {}
        }
      ],
      "source": [
        "X_pca = pca(X_scaled, eigenvectors, eigenvalues, 2)"
      ]
    },
    {
      "cell_type": "markdown",
      "id": "5b6e9da6-bb86-4a89-ad6a-a9cca471a6f6",
      "metadata": {
        "id": "5b6e9da6-bb86-4a89-ad6a-a9cca471a6f6"
      },
      "source": [
        "# Linear Discriminant Analysis (LDA)"
      ]
    },
    {
      "cell_type": "code",
      "execution_count": 111,
      "id": "4ee2b098-b264-4a02-b266-1e15c20b74e3",
      "metadata": {
        "id": "4ee2b098-b264-4a02-b266-1e15c20b74e3"
      },
      "outputs": [],
      "source": [
        "from sklearn.datasets import load_iris"
      ]
    },
    {
      "cell_type": "code",
      "execution_count": 112,
      "id": "5516e39d-f3ed-481d-9d36-f1f0306fe78e",
      "metadata": {
        "id": "5516e39d-f3ed-481d-9d36-f1f0306fe78e"
      },
      "outputs": [],
      "source": [
        "data = load_iris()"
      ]
    },
    {
      "cell_type": "code",
      "execution_count": 113,
      "id": "f60078eb-ec7f-4f41-a770-e5e7ddd0f24b",
      "metadata": {
        "id": "f60078eb-ec7f-4f41-a770-e5e7ddd0f24b"
      },
      "outputs": [],
      "source": [
        "X = data.data\n",
        "y = data.target"
      ]
    },
    {
      "cell_type": "code",
      "execution_count": 114,
      "id": "641dfb02-9649-43e8-8e8a-0b10801c635c",
      "metadata": {
        "colab": {
          "base_uri": "https://localhost:8080/"
        },
        "id": "641dfb02-9649-43e8-8e8a-0b10801c635c",
        "outputId": "96255427-b23f-439c-b551-502262f1e5eb"
      },
      "outputs": [
        {
          "output_type": "execute_result",
          "data": {
            "text/plain": [
              "((150, 4), (150,))"
            ]
          },
          "metadata": {},
          "execution_count": 114
        }
      ],
      "source": [
        "X.shape, y.shape"
      ]
    },
    {
      "cell_type": "code",
      "execution_count": 115,
      "id": "2d389806-b97e-4a40-a79e-a8f081d4daae",
      "metadata": {
        "id": "2d389806-b97e-4a40-a79e-a8f081d4daae"
      },
      "outputs": [],
      "source": [
        "n_classes = np.unique(y).shape[0]"
      ]
    },
    {
      "cell_type": "code",
      "execution_count": 116,
      "id": "ed76ad0e-baee-45e4-a03a-9803dfcaf6cb",
      "metadata": {
        "id": "ed76ad0e-baee-45e4-a03a-9803dfcaf6cb"
      },
      "outputs": [],
      "source": [
        "n_features = X.shape[1]"
      ]
    },
    {
      "cell_type": "code",
      "execution_count": 117,
      "id": "8ef7600e-a94e-46a5-905f-4698c337f447",
      "metadata": {
        "id": "8ef7600e-a94e-46a5-905f-4698c337f447"
      },
      "outputs": [],
      "source": [
        "c_means = np.array([np.mean(X[y == c], axis=0) for c in range(n_classes)])"
      ]
    },
    {
      "cell_type": "code",
      "execution_count": 118,
      "id": "d387c357-f789-4614-a3fa-4dcbf19c5b7e",
      "metadata": {
        "colab": {
          "base_uri": "https://localhost:8080/"
        },
        "id": "d387c357-f789-4614-a3fa-4dcbf19c5b7e",
        "outputId": "e58b6a42-93f4-421d-f290-97785693bb00"
      },
      "outputs": [
        {
          "output_type": "execute_result",
          "data": {
            "text/plain": [
              "array([[5.006, 3.428, 1.462, 0.246],\n",
              "       [5.936, 2.77 , 4.26 , 1.326],\n",
              "       [6.588, 2.974, 5.552, 2.026]])"
            ]
          },
          "metadata": {},
          "execution_count": 118
        }
      ],
      "source": [
        "c_means"
      ]
    },
    {
      "cell_type": "code",
      "execution_count": 119,
      "id": "320c2398-5177-4ae4-b3b2-6db4419571f0",
      "metadata": {
        "colab": {
          "base_uri": "https://localhost:8080/"
        },
        "id": "320c2398-5177-4ae4-b3b2-6db4419571f0",
        "outputId": "fbdfc579-098f-4a7c-911a-8d3f7d9548f7"
      },
      "outputs": [
        {
          "output_type": "execute_result",
          "data": {
            "text/plain": [
              "array([5.84333333, 3.05733333, 3.758     , 1.19933333])"
            ]
          },
          "metadata": {},
          "execution_count": 119
        }
      ],
      "source": [
        "o_means = np.mean(X, axis=0)\n",
        "o_means"
      ]
    },
    {
      "cell_type": "code",
      "execution_count": 120,
      "id": "f9593f26-562e-4bfb-a65e-bb28d8911571",
      "metadata": {
        "id": "f9593f26-562e-4bfb-a65e-bb28d8911571"
      },
      "outputs": [],
      "source": [
        "sw = np.zeros((n_features, n_features))"
      ]
    },
    {
      "cell_type": "code",
      "execution_count": 121,
      "id": "fb2e37aa-03c3-400e-aa27-30b4565e6e33",
      "metadata": {
        "id": "fb2e37aa-03c3-400e-aa27-30b4565e6e33"
      },
      "outputs": [],
      "source": [
        "for c in range(n_classes):\n",
        "    class_samples = X[y == c]\n",
        "    mean_vector = c_means[c]\n",
        "    swc = np.sum([(x - mean_vector).reshape(-1,1) @ (x - mean_vector).reshape(1, -1) for x in class_samples], axis=0)\n",
        "    sw += swc"
      ]
    },
    {
      "cell_type": "code",
      "execution_count": 122,
      "id": "9fed9fa8-ad62-4f61-97ad-ba4c449fee73",
      "metadata": {
        "colab": {
          "base_uri": "https://localhost:8080/"
        },
        "id": "9fed9fa8-ad62-4f61-97ad-ba4c449fee73",
        "outputId": "b689479e-1dd7-4fa3-ae2e-37e370b20936"
      },
      "outputs": [
        {
          "output_type": "execute_result",
          "data": {
            "text/plain": [
              "array([[38.9562, 13.63  , 24.6246,  5.645 ],\n",
              "       [13.63  , 16.962 ,  8.1208,  4.8084],\n",
              "       [24.6246,  8.1208, 27.2226,  6.2718],\n",
              "       [ 5.645 ,  4.8084,  6.2718,  6.1566]])"
            ]
          },
          "metadata": {},
          "execution_count": 122
        }
      ],
      "source": [
        "sw"
      ]
    },
    {
      "cell_type": "code",
      "execution_count": 123,
      "id": "981a33de-fac5-49c8-aa73-3b2567a1a691",
      "metadata": {
        "id": "981a33de-fac5-49c8-aa73-3b2567a1a691"
      },
      "outputs": [],
      "source": [
        "sb = np.zeros((n_features, n_features))"
      ]
    },
    {
      "cell_type": "code",
      "execution_count": 124,
      "id": "2c88405d-ab45-481f-b4dc-23532994cf28",
      "metadata": {
        "id": "2c88405d-ab45-481f-b4dc-23532994cf28"
      },
      "outputs": [],
      "source": [
        "for c in np.unique(y):\n",
        "    N_c = np.sum(y == c)\n",
        "    mean_vector = c_means[c]\n",
        "    mean_diff = (mean_vector - o_means).reshape(-1, 1)\n",
        "    sbc = N_c * (mean_diff @ mean_diff.T)\n",
        "    sb += sbc"
      ]
    },
    {
      "cell_type": "code",
      "execution_count": 125,
      "id": "e0f2f947-d083-42e5-84fa-426c193e01d5",
      "metadata": {
        "colab": {
          "base_uri": "https://localhost:8080/"
        },
        "id": "e0f2f947-d083-42e5-84fa-426c193e01d5",
        "outputId": "da10cc01-b322-4720-8ec0-8dd73c0e6946"
      },
      "outputs": [
        {
          "output_type": "execute_result",
          "data": {
            "text/plain": [
              "array([[ 63.21213333, -19.95266667, 165.2484    ,  71.27933333],\n",
              "       [-19.95266667,  11.34493333, -57.2396    , -22.93266667],\n",
              "       [165.2484    , -57.2396    , 437.1028    , 186.774     ],\n",
              "       [ 71.27933333, -22.93266667, 186.774     ,  80.41333333]])"
            ]
          },
          "metadata": {},
          "execution_count": 125
        }
      ],
      "source": [
        "sb"
      ]
    },
    {
      "cell_type": "code",
      "execution_count": 126,
      "id": "60b2291f-8582-44e2-aadd-90f2080eab8a",
      "metadata": {
        "id": "60b2291f-8582-44e2-aadd-90f2080eab8a"
      },
      "outputs": [],
      "source": [
        "sw_inv = np.linalg.inv(sw)"
      ]
    },
    {
      "cell_type": "code",
      "execution_count": 127,
      "id": "12df85b1-864a-4c54-8956-50f685178036",
      "metadata": {
        "id": "12df85b1-864a-4c54-8956-50f685178036"
      },
      "outputs": [],
      "source": [
        "eigenvalues, eigenvectors = np.linalg.eig(sw_inv @ sb)"
      ]
    },
    {
      "cell_type": "code",
      "execution_count": 128,
      "id": "0bc296a8-e19f-4923-a535-2f1536454b3d",
      "metadata": {
        "id": "0bc296a8-e19f-4923-a535-2f1536454b3d"
      },
      "outputs": [],
      "source": [
        "if np.iscomplex(eigenvalues).any():\n",
        "    eigenvalues = np.real(eigenvalues)\n",
        "    eigenvectors = np.real(eigenvectors)"
      ]
    },
    {
      "cell_type": "code",
      "execution_count": 129,
      "id": "bdf73582-f3f3-4ea8-a120-37f7ec691a65",
      "metadata": {
        "id": "bdf73582-f3f3-4ea8-a120-37f7ec691a65"
      },
      "outputs": [],
      "source": [
        "sorted_indices = np.argsort(eigenvalues)[::-1]"
      ]
    },
    {
      "cell_type": "code",
      "execution_count": 130,
      "id": "d9e8b229-3040-4843-a732-3bfa40e7464e",
      "metadata": {
        "id": "d9e8b229-3040-4843-a732-3bfa40e7464e"
      },
      "outputs": [],
      "source": [
        "desc_eigenvals = eigenvalues[sorted_indices]\n",
        "desc_eigenvecs = eigenvectors[sorted_indices]"
      ]
    },
    {
      "cell_type": "code",
      "execution_count": 131,
      "id": "e9d5163b-21a7-4843-bb5f-dcc5d92b4ecd",
      "metadata": {
        "id": "e9d5163b-21a7-4843-bb5f-dcc5d92b4ecd"
      },
      "outputs": [],
      "source": [
        "X_scaled = scaler.fit_transform(X)"
      ]
    },
    {
      "cell_type": "code",
      "execution_count": 132,
      "id": "331b6a52-4fbc-404d-84a6-ccb63141dbc7",
      "metadata": {
        "id": "331b6a52-4fbc-404d-84a6-ccb63141dbc7"
      },
      "outputs": [],
      "source": [
        "k = n_classes - 1\n",
        "W = desc_eigenvecs[:, :k]\n",
        "X_lda = X_scaled @ W"
      ]
    },
    {
      "cell_type": "code",
      "execution_count": 133,
      "id": "b615fc41-a200-46c1-a587-c170bb31b8a9",
      "metadata": {
        "colab": {
          "base_uri": "https://localhost:8080/",
          "height": 564
        },
        "id": "b615fc41-a200-46c1-a587-c170bb31b8a9",
        "outputId": "83429775-db27-496b-ceff-84b134983855"
      },
      "outputs": [
        {
          "output_type": "display_data",
          "data": {
            "text/plain": [
              "<Figure size 800x600 with 1 Axes>"
            ],
            "image/png": "[encoded data removed]"
          },
          "metadata": {}
        }
      ],
      "source": [
        "plt.figure(figsize=(8, 6))\n",
        "for c in np.unique(y):\n",
        "    plt.scatter(X_lda[y == c, 0], X_lda[y == c, 1], label=f'class {c}')\n",
        "plt.xlabel('LD1')\n",
        "plt.ylabel('LD2')\n",
        "plt.title('LDA')\n",
        "plt.grid(True)\n",
        "plt.legend()\n",
        "plt.show()"
      ]
    },
    {
      "cell_type": "markdown",
      "id": "92a9bfad-9261-4c68-9c39-f2d42ceb70e0",
      "metadata": {
        "id": "92a9bfad-9261-4c68-9c39-f2d42ceb70e0"
      },
      "source": [
        "# t-distributed stochastic neighbor embedding (t-SNE)"
      ]
    },
    {
      "cell_type": "code",
      "source": [
        "from sklearn.datasets import fetch_openml\n",
        "from sklearn.decomposition import PCA"
      ],
      "metadata": {
        "id": "U67twzRMnQSK"
      },
      "id": "U67twzRMnQSK",
      "execution_count": 134,
      "outputs": []
    },
    {
      "cell_type": "code",
      "source": [
        "def get_original_pairwise_affinities(X: np.ndarray, perplexity: int = 10) -> np.ndarray:\n",
        "    n = len(X)\n",
        "    p_ij = np.zeros(shape=(n, n))\n",
        "    H_target = np.log2(perplexity) # target entropy\n",
        "\n",
        "    for i in range(0, n):\n",
        "        beta = 1.0\n",
        "        tolerance = 1e-5\n",
        "        max_iterations = 50\n",
        "        iteration = 0\n",
        "        p = None\n",
        "        while iteration < max_iterations:\n",
        "            iteration += 1\n",
        "            diff = X[i] - X\n",
        "            norm = np.linalg.norm(diff, axis=1)\n",
        "            p = np.exp(-(norm**2) * beta)\n",
        "            p /= np.sum(p)\n",
        "            p[i] = 0\n",
        "            p = np.maximum(p, 1e-10)\n",
        "            H_here = np.sum(-p * np.log2(p))\n",
        "            if np.abs(H_here - H_target) <= tolerance:\n",
        "                break\n",
        "            elif H_here > H_target:\n",
        "                beta *= 2\n",
        "            else:\n",
        "                beta /= 2\n",
        "        p_ij[i, :] = p\n",
        "\n",
        "    p_ij = np.maximum(p_ij, 1e-10)\n",
        "\n",
        "    return p_ij"
      ],
      "metadata": {
        "id": "0Ok2_A0DyCFr"
      },
      "id": "0Ok2_A0DyCFr",
      "execution_count": 135,
      "outputs": []
    },
    {
      "cell_type": "code",
      "source": [
        "def get_symmetric_p_ij(p_ij: np.ndarray) -> np.ndarray:\n",
        "    n = len(p_ij)\n",
        "    p_ij_symmetric = np.zeros(shape=(n, n))\n",
        "    for i in range(0, n):\n",
        "        for j in range(0, n):\n",
        "            p_ij_symmetric[i, j] = (p_ij[i, j] + p_ij[j, i]) / (2 * n)\n",
        "\n",
        "    p_ij_symmetric = np.maximum(p_ij_symmetric, 1e-10)\n",
        "\n",
        "    return p_ij_symmetric"
      ],
      "metadata": {
        "id": "3I_T7SMx2E-p"
      },
      "id": "3I_T7SMx2E-p",
      "execution_count": 136,
      "outputs": []
    },
    {
      "cell_type": "code",
      "source": [
        "def get_low_dimensional_affinities(Y: np.ndarray) -> np.ndarray:\n",
        "    n = len(Y)\n",
        "    q_ij = np.zeros(shape=(n, n))\n",
        "\n",
        "    for i in range(0, n):\n",
        "        diff = Y[i] - Y\n",
        "        norm = np.linalg.norm(diff, axis=1)\n",
        "        q_ij[i, :] = (1 + norm**2) ** (-1)\n",
        "\n",
        "    np.fill_diagonal(q_ij, 0)\n",
        "\n",
        "    q_ij = q_ij / q_ij.sum()\n",
        "\n",
        "    q_ij = np.maximum(q_ij, 1e-10)\n",
        "\n",
        "    return q_ij"
      ],
      "metadata": {
        "id": "GPzZ3w4Y2hQe"
      },
      "id": "GPzZ3w4Y2hQe",
      "execution_count": 138,
      "outputs": []
    },
    {
      "cell_type": "code",
      "source": [
        "def get_gradient(p_ij: np.ndarray, q_ij: np.ndarray, Y: np.ndarray) -> np.ndarray:\n",
        "    n = len(p_ij)\n",
        "\n",
        "    # compute gradient\n",
        "    gradient = np.zeros(shape=(n, Y.shape[1]))\n",
        "    for i in range(0, n):\n",
        "        diff = Y[i] - Y\n",
        "        A = np.array([(p_ij[i, :] - q_ij[i, :])])\n",
        "        B = np.array([(1 + np.linalg.norm(diff, axis=1)) ** (-1)])\n",
        "        C = diff\n",
        "        gradient[i] = 4 * np.sum((A * B).T * C, axis=0)\n",
        "\n",
        "    return gradient"
      ],
      "metadata": {
        "id": "F3CntDf92zWm"
      },
      "id": "F3CntDf92zWm",
      "execution_count": 139,
      "outputs": []
    },
    {
      "cell_type": "code",
      "source": [
        "def tsne(X: np.ndarray, perplexity: int = 10, T: int = 1000, lr: int = 200, early_exaggeration: int = 4, n_dimensions: int = 2):\n",
        "    n = len(X)\n",
        "    costs = []\n",
        "    # Get original affinities matrix\n",
        "    p_ij = get_original_pairwise_affinities(X, perplexity)\n",
        "    p_ij_symmetric = get_symmetric_p_ij(p_ij)\n",
        "\n",
        "    # Initialization\n",
        "    Y = np.zeros(shape=(T, n, n_dimensions))\n",
        "    Y_minus1 = np.zeros(shape=(n, n_dimensions))\n",
        "    Y[0] = Y_minus1\n",
        "    Y1 = np.random.rand(X.shape[0], n_dimensions)\n",
        "    Y[1] = np.array(Y1)\n",
        "\n",
        "    for t in range(1, T - 1):\n",
        "        if t < 250:\n",
        "            a = 0.5\n",
        "            early_exaggeration = early_exaggeration\n",
        "        else:\n",
        "            a = 0.8\n",
        "            early_exaggeration = 1\n",
        "\n",
        "        q_ij = get_low_dimensional_affinities(Y[t])\n",
        "\n",
        "        gradient = get_gradient(early_exaggeration * p_ij_symmetric, q_ij, Y[t])\n",
        "\n",
        "        Y[t + 1] = Y[t] - lr * gradient + a * (Y[t] - Y[t - 1])\n",
        "\n",
        "        if t % 50 == 0 or t == 1:\n",
        "            cost = np.sum(p_ij_symmetric * np.log(p_ij_symmetric / q_ij))\n",
        "            costs.append(cost)\n",
        "            print(f\"Loss: {cost}\")\n",
        "\n",
        "    history = Y[-1]\n",
        "\n",
        "    return history, costs, Y"
      ],
      "metadata": {
        "id": "O6LDoZSf3FRq"
      },
      "id": "O6LDoZSf3FRq",
      "execution_count": 154,
      "outputs": []
    },
    {
      "cell_type": "code",
      "source": [
        "mnist = fetch_openml(\"mnist_784\", version=1, as_frame=False)\n",
        "mnist.target = mnist.target.astype(np.uint8)\n",
        "\n",
        "X_mnist = pd.DataFrame(mnist[\"data\"])\n",
        "y = pd.DataFrame(mnist[\"target\"])\n",
        "\n",
        "X_mnist = X_mnist.sample(n=1000)\n",
        "y_mnist = y.loc[X_mnist.index]\n",
        "\n",
        "X = PCA(n_components=30).fit_transform(X_mnist)"
      ],
      "metadata": {
        "colab": {
          "base_uri": "https://localhost:8080/"
        },
        "id": "i-iQNS_G4HTb",
        "outputId": "c7347430-4194-4f3f-fb9f-80b9cdb3f04e"
      },
      "id": "i-iQNS_G4HTb",
      "execution_count": 141,
      "outputs": [
        {
          "output_type": "stream",
          "name": "stderr",
          "text": [
            "/usr/local/lib/python3.10/dist-packages/sklearn/datasets/_openml.py:1022: FutureWarning: The default value of `parser` will change from `'liac-arff'` to `'auto'` in 1.4. You can set `parser='auto'` to silence this warning. Therefore, an `ImportError` will be raised from 1.4 if the dataset is dense and pandas is not installed. Note that the pandas parser may return different data types. See the Notes Section in fetch_openml's API doc for details.\n",
            "  warn(\n"
          ]
        }
      ]
    },
    {
      "cell_type": "code",
      "source": [
        "history, costs, Y = tsne(X, perplexity=10, T=2000, lr=200, early_exaggeration=4, n_dimensions=2)"
      ],
      "metadata": {
        "colab": {
          "base_uri": "https://localhost:8080/"
        },
        "id": "-X8wIF2q3yll",
        "outputId": "d1f9326b-d12b-4d73-e075-7e8c439d2d1c"
      },
      "id": "-X8wIF2q3yll",
      "execution_count": 157,
      "outputs": [
        {
          "output_type": "stream",
          "name": "stdout",
          "text": [
            "Loss: 1.2098074714682359\n",
            "Loss: 0.6308065787656304\n",
            "Loss: 0.5879867641856299\n",
            "Loss: 0.5811518035629195\n",
            "Loss: 0.5804031023651026\n",
            "Loss: 0.5803824238919242\n",
            "Loss: 0.20725241080626883\n",
            "Loss: 0.2080344482265802\n",
            "Loss: 0.20883396430795834\n",
            "Loss: 0.20851813211918846\n",
            "Loss: 0.20840762817290787\n",
            "Loss: 0.2082687757093169\n",
            "Loss: 0.20812044509352107\n",
            "Loss: 0.20798765108581907\n",
            "Loss: 0.20787621368830098\n",
            "Loss: 0.20778166504805234\n",
            "Loss: 0.20770042440609135\n",
            "Loss: 0.20762871964507973\n",
            "Loss: 0.20756483726168265\n",
            "Loss: 0.20750761889336847\n",
            "Loss: 0.2074560783665255\n",
            "Loss: 0.20740936543944416\n",
            "Loss: 0.20736676341695262\n",
            "Loss: 0.2073276724680894\n",
            "Loss: 0.2072915862982399\n",
            "Loss: 0.20725807068112526\n",
            "Loss: 0.20722674796423363\n",
            "Loss: 0.2071972892823414\n",
            "Loss: 0.20716941466182784\n",
            "Loss: 0.20714289858564425\n",
            "Loss: 0.2071175744443494\n",
            "Loss: 0.20709332857452617\n",
            "Loss: 0.20707007865073737\n",
            "Loss: 0.20704774241005292\n",
            "Loss: 0.20702621158197534\n",
            "Loss: 0.20700534382196972\n",
            "Loss: 0.20698497664220875\n",
            "Loss: 0.2069649602675968\n",
            "Loss: 0.20694520046387777\n",
            "Loss: 0.20692569436213495\n"
          ]
        }
      ]
    },
    {
      "cell_type": "code",
      "source": [
        "fig, ax = plt.subplots()\n",
        "g1 = ax.scatter(solution[:, 0], solution[:, 1], c=y_mnist, cmap=\"tab10\")\n",
        "ax.axis(\"off\")\n",
        "plt.colorbar(g1, ax=ax)\n",
        "plt.show()"
      ],
      "metadata": {
        "colab": {
          "base_uri": "https://localhost:8080/",
          "height": 420
        },
        "id": "slg7G_JJ6ME2",
        "outputId": "3d287d50-f91d-4f85-f0ce-b3b89d2cecb9"
      },
      "id": "slg7G_JJ6ME2",
      "execution_count": 156,
      "outputs": [
        {
          "output_type": "display_data",
          "data": {
            "text/plain": [
              "<Figure size 640x480 with 2 Axes>"
            ],
            "image/png": "[encoded data removed]"
          },
          "metadata": {}
        }
      ]
    }
  ],
  "metadata": {
    "kernelspec": {
      "display_name": "Python 3 (ipykernel)",
      "language": "python",
      "name": "python3"
    },
    "language_info": {
      "codemirror_mode": {
        "name": "ipython",
        "version": 3
      },
      "file_extension": ".py",
      "mimetype": "text/x-python",
      "name": "python",
      "nbconvert_exporter": "python",
      "pygments_lexer": "ipython3",
      "version": "3.12.5"
    },
    "colab": {
      "provenance": []
    }
  },
  "nbformat": 4,
  "nbformat_minor": 5
}