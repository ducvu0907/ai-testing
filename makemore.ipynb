{
 "cells": [
  {
   "cell_type": "code",
   "execution_count": 1,
   "id": "f08a507e-b470-4a04-8d17-e77f73bce9d7",
   "metadata": {},
   "outputs": [],
   "source": [
    "import numpy as np\n",
    "import torch\n",
    "import torch.nn as nn\n",
    "import torch.nn.functional as F\n",
    "import matplotlib.pyplot as plt\n",
    "%matplotlib inline"
   ]
  },
  {
   "cell_type": "code",
   "execution_count": 2,
   "id": "5e062c99-bcb8-4edb-8507-37a932186559",
   "metadata": {},
   "outputs": [],
   "source": [
    "class Linear:\n",
    "    def __init__(self, fan_in, fan_out, bias=True):\n",
    "        self.weight = torch.randn((fan_in, fan_out)) / fan_in**0.5 # normalized\n",
    "        self.bias = torch.zeros(fan_out) if bias else None\n",
    "    def __call__(self, x):\n",
    "        self.out = torch.matmul(x, self.weight)\n",
    "        self.out += self.bias if self.bias else 0\n",
    "        return self.out\n",
    "    def parameters(self):\n",
    "        return [self.weight] + ([self.bias] if self.bias else [])"
   ]
  },
  {
   "cell_type": "code",
   "execution_count": 3,
   "id": "f5b930ca-d0be-4247-86ca-22c5c2e36432",
   "metadata": {},
   "outputs": [],
   "source": [
    "class BatchNorm1d:\n",
    "    def __init__(self, dim, eps=1e-5, momentum=0.1):\n",
    "        self.eps = eps\n",
    "        self.momentum = momentum\n",
    "        self.training = True\n",
    "        self.gamma = torch.ones(dim)\n",
    "        self.beta = torch.zeros(dim)\n",
    "        self.running_mean = torch.zeros(dim) # record running mean and variance across dataset for inference\n",
    "        self.running_var = torch.ones(dim)  \n",
    "    def __call__(self, x):\n",
    "        if self.training:\n",
    "            xmean = torch.mean(x, axis=0) # batch mean\n",
    "            xvar = torch.var(x, axis=0) # batch variance\n",
    "        else: # during inference\n",
    "            xmean, xvar = running_mean, running_var\n",
    "        xhat = (x - xmean) / torch.sqrt(xvar + self.eps) # std\n",
    "        self.out = torch.matmul(self.gamma, xhat) + self.beta\n",
    "        if self.training:\n",
    "            with torch.no_grad():\n",
    "                self.running_mean = (1 - self.momentum) * self.running_mean + self.momentum * xmean\n",
    "                self.running_var = (1 - self.momentum) * self.running_var + self.momentum * xvar\n",
    "        return self.out\n",
    "    def parameters(self):\n",
    "        return [self.gamma, self.beta]"
   ]
  },
  {
   "cell_type": "code",
   "execution_count": 4,
   "id": "dcb6bad2-1d8d-4f74-9145-1a221762ecf4",
   "metadata": {},
   "outputs": [],
   "source": [
    "class Tanh:\n",
    "    def __call__(self, x):\n",
    "        self.out = torch.tanh(x)\n",
    "        return self.out\n",
    "    def parameters(self):\n",
    "        return []"
   ]
  },
  {
   "cell_type": "code",
   "execution_count": 5,
   "id": "41c32a94-8130-436f-8d57-f15bc3728521",
   "metadata": {},
   "outputs": [],
   "source": [
    "names = open(\"data/names.txt\", 'r').read().split('\\n')"
   ]
  },
  {
   "cell_type": "code",
   "execution_count": 6,
   "id": "5f38fc36-e84c-4cec-abe3-e5cfe90b799f",
   "metadata": {},
   "outputs": [
    {
     "data": {
      "text/plain": [
       "['emma', 'olivia', 'ava', 'isabella', 'sophia']"
      ]
     },
     "execution_count": 6,
     "metadata": {},
     "output_type": "execute_result"
    }
   ],
   "source": [
    "names[:5]"
   ]
  },
  {
   "cell_type": "code",
   "execution_count": 7,
   "id": "12948706-ef7d-405d-9314-4bbded672cd0",
   "metadata": {},
   "outputs": [
    {
     "data": {
      "text/plain": [
       "32033"
      ]
     },
     "execution_count": 7,
     "metadata": {},
     "output_type": "execute_result"
    }
   ],
   "source": [
    "len(names)"
   ]
  },
  {
   "cell_type": "code",
   "execution_count": 8,
   "id": "a284d42f-7d30-485a-8b73-cc0e9c79b30b",
   "metadata": {},
   "outputs": [
    {
     "name": "stdout",
     "output_type": "stream",
     "text": [
      "{'a': 0, 'b': 1, 'c': 2, 'd': 3, 'e': 4, 'f': 5, 'g': 6, 'h': 7, 'i': 8, 'j': 9, 'k': 10, 'l': 11, 'm': 12, 'n': 13, 'o': 14, 'p': 15, 'q': 16, 'r': 17, 's': 18, 't': 19, 'u': 20, 'v': 21, 'w': 22, 'x': 23, 'y': 24, 'z': 25, '<start>': 26, '<end>': 27}\n",
      "28\n"
     ]
    }
   ],
   "source": [
    "chars = sorted(list(set(''.join(names))))\n",
    "ctoi = {c:i for i, c in enumerate(chars)}\n",
    "ctoi[\"<start>\"] = 26\n",
    "ctoi[\"<end>\"] = 27\n",
    "print(ctoi)\n",
    "vocab_size = len(ctoi)\n",
    "print(vocab_size)"
   ]
  },
  {
   "cell_type": "code",
   "execution_count": 9,
   "id": "2bb62eac-bfcb-4629-a8d9-604751d8c49d",
   "metadata": {},
   "outputs": [],
   "source": [
    "context_length = 3\n",
    "X, Y = [], []\n",
    "for name in names:\n",
    "    name = [\"<start>\"] * context_length + [char for char in name] + [\"<end>\"] * context_length\n",
    "    context = [ctoi[ch] for ch in name[:context_length]]\n",
    "    for ch in name[context_length:]:\n",
    "        ic = ctoi[ch]\n",
    "        X.append(context)\n",
    "        Y.append(ic)\n",
    "        context = context[1:] + [ic]\n",
    "\n",
    "X, Y = torch.tensor(X), torch.tensor(Y)\n",
    "    "
   ]
  },
  {
   "cell_type": "code",
   "execution_count": 10,
   "id": "c8dd7c06-22b9-48e5-92ba-7e60e20f6896",
   "metadata": {},
   "outputs": [
    {
     "data": {
      "text/plain": [
       "(tensor([[26, 26, 26],\n",
       "         [26, 26,  4],\n",
       "         [26,  4, 12],\n",
       "         [ 4, 12, 12],\n",
       "         [12, 12,  0],\n",
       "         [12,  0, 27],\n",
       "         [ 0, 27, 27],\n",
       "         [26, 26, 26],\n",
       "         [26, 26, 14],\n",
       "         [26, 14, 11]]),\n",
       " tensor([ 4, 12, 12,  0, 27, 27, 27, 14, 11,  8]))"
      ]
     },
     "execution_count": 10,
     "metadata": {},
     "output_type": "execute_result"
    }
   ],
   "source": [
    "X[:10], Y[:10]"
   ]
  },
  {
   "cell_type": "code",
   "execution_count": 11,
   "id": "04990373-032f-4cc5-ad69-11febbdfa429",
   "metadata": {},
   "outputs": [],
   "source": [
    "train_size, dev_size = int(0.8 * X.shape[0]), int(0.1 * X.shape[0])"
   ]
  },
  {
   "cell_type": "code",
   "execution_count": 12,
   "id": "f977d743-e579-4f9e-aced-03ae4b25cf1c",
   "metadata": {},
   "outputs": [],
   "source": [
    "indices = np.arange(X.shape[0])\n",
    "np.random.shuffle(indices)"
   ]
  },
  {
   "cell_type": "code",
   "execution_count": 13,
   "id": "86326ca2-086d-40a3-bc5f-fc4b95145679",
   "metadata": {},
   "outputs": [],
   "source": [
    "X_train, Y_train = X[indices][:train_size], Y[indices][:train_size]\n",
    "X_dev, Y_dev = X[indices][train_size:train_size + dev_size], Y[indices][train_size:train_size + dev_size]\n",
    "X_test, Y_test = X[indices][train_size + dev_size:], Y[indices][train_size + dev_size]"
   ]
  },
  {
   "cell_type": "code",
   "execution_count": 14,
   "id": "cf5888af-2c15-4990-b4ae-eb04da19b70b",
   "metadata": {},
   "outputs": [
    {
     "data": {
      "text/plain": [
       "(233769, 29221, 29222)"
      ]
     },
     "execution_count": 14,
     "metadata": {},
     "output_type": "execute_result"
    }
   ],
   "source": [
    "X_train.shape[0], X_dev.shape[0], X_test.shape[0]"
   ]
  },
  {
   "cell_type": "code",
   "execution_count": 15,
   "id": "99a02bb6-50d1-4a5e-88d9-aed544174c4b",
   "metadata": {},
   "outputs": [
    {
     "data": {
      "text/plain": [
       "tensor([[26, 26, 26],\n",
       "        [26, 26,  4],\n",
       "        [26,  4, 12],\n",
       "        [ 4, 12, 12],\n",
       "        [12, 12,  0]])"
      ]
     },
     "execution_count": 15,
     "metadata": {},
     "output_type": "execute_result"
    }
   ],
   "source": [
    "X[:5]"
   ]
  },
  {
   "cell_type": "code",
   "execution_count": 16,
   "id": "b9f39886-db55-4071-b12f-b1a0f6dd9924",
   "metadata": {},
   "outputs": [],
   "source": [
    "n_embd = 10 # embedding dimension\n",
    "n_hidden = 200 # number of neurons in the hidden layer\n",
    "g = torch.Generator().manual_seed(1)\n",
    "C = torch.randn((vocab_size, n_embd), generator=g)\n",
    "W1 = torch.randn((n_embd * context_length, n_hidden), generator=g) * 0.1\n",
    "b1 = torch.randn(n_hidden, generator=g) * 0\n",
    "W2 = torch.randn((n_hidden, vocab_size), generator=g) * 0.01\n",
    "b2 = torch.randn(vocab_size, generator=g) * 0\n",
    "gamma = torch.ones((1, n_hidden))\n",
    "beta= torch.zeros((1, n_hidden))\n",
    "bmean_running = torch.zeros((1, n_hidden))\n",
    "bstd_running = torch.ones((1, n_hidden))\n",
    "\n",
    "parameters = [C, W1, b1, W2, b2]\n",
    "for param in parameters:\n",
    "    param.requires_grad = True"
   ]
  },
  {
   "cell_type": "code",
   "execution_count": 17,
   "id": "9cdf5be0-e8a6-4c5d-872f-ad2b971988ea",
   "metadata": {},
   "outputs": [
    {
     "name": "stdout",
     "output_type": "stream",
     "text": [
      "3.330103874206543\n",
      "2.009866952896118\n",
      "2.0117671489715576\n",
      "2.041421890258789\n",
      "1.6239475011825562\n",
      "1.9950580596923828\n",
      "1.8122663497924805\n",
      "1.6025198698043823\n",
      "2.295436382293701\n",
      "1.5949259996414185\n",
      "1.7437834739685059\n",
      "1.9416346549987793\n",
      "1.7765555381774902\n",
      "1.5981225967407227\n",
      "1.7935141324996948\n",
      "1.420085072517395\n",
      "1.7282326221466064\n",
      "1.42689847946167\n",
      "1.8953951597213745\n",
      "1.5536335706710815\n"
     ]
    }
   ],
   "source": [
    "batch_size = 32\n",
    "learning_rate = 0.1\n",
    "losses = []\n",
    "for i in range(20000):\n",
    "    # sample batch\n",
    "    samp = torch.randint(0, X_train.shape[0], (batch_size,), generator=g)\n",
    "    x, y = X_train[samp], Y_train[samp]\n",
    "    # forward & backward\n",
    "    emb = C[x]\n",
    "    embcat = emb.reshape(emb.shape[0], -1)\n",
    "    hpreact = torch.matmul(embcat, W1) + b1\n",
    "    bmeani = torch.mean(hpreact, axis=0)\n",
    "    bstdi = torch.std(hpreact, axis=0)\n",
    "    hpreact = gamma * (hpreact - bmeani) / bstdi + beta\n",
    "    h = torch.tanh(hpreact)\n",
    "    logits = torch.matmul(h, W2) + b2\n",
    "    loss = F.cross_entropy(logits, y)\n",
    "    losses.append(loss.item())\n",
    "    with torch.no_grad():\n",
    "        # momentum 0.001\n",
    "        bmean_running = 0.999 * bmean_running + 0.001 * bmeani\n",
    "        bstd_running = 0.999 * bstd_running + 0.001 * bstdi\n",
    "    for p in parameters:\n",
    "        p.grad = None\n",
    "    loss.backward()\n",
    "    for p in parameters:\n",
    "        p.data -= learning_rate * p.grad\n",
    "    if i % 1000 == 0:\n",
    "        print(loss.item())"
   ]
  },
  {
   "cell_type": "code",
   "execution_count": 18,
   "id": "0b1ae1dd-8589-4048-a73b-e946656c75e2",
   "metadata": {},
   "outputs": [
    {
     "data": {
      "image/png": "[encoded data removed]",
      "text/plain": [
       "<Figure size 640x480 with 1 Axes>"
      ]
     },
     "metadata": {},
     "output_type": "display_data"
    }
   ],
   "source": [
    "plt.hist(h.view(-1).tolist(), 50);"
   ]
  },
  {
   "cell_type": "code",
   "execution_count": 19,
   "id": "a27162c0-a345-477a-acc9-7df84326a98b",
   "metadata": {},
   "outputs": [
    {
     "data": {
      "image/png": "[encoded data removed]",
      "text/plain": [
       "<Figure size 640x480 with 1 Axes>"
      ]
     },
     "metadata": {},
     "output_type": "display_data"
    }
   ],
   "source": [
    "plt.hist(hpreact.view(-1).tolist(), 50);"
   ]
  },
  {
   "cell_type": "code",
   "execution_count": 20,
   "id": "924d80f1-37a6-44a3-9a87-73993e0736b2",
   "metadata": {},
   "outputs": [
    {
     "data": {
      "text/plain": [
       "<matplotlib.image.AxesImage at 0x7f6ac8947140>"
      ]
     },
     "execution_count": 20,
     "metadata": {},
     "output_type": "execute_result"
    },
    {
     "data": {
      "image/png": "[encoded data removed]",
      "text/plain": [
       "<Figure size 2000x1000 with 1 Axes>"
      ]
     },
     "metadata": {},
     "output_type": "display_data"
    }
   ],
   "source": [
    "plt.figure(figsize=(20, 10))\n",
    "plt.imshow(h.abs() > 0.98, cmap=\"gray\")"
   ]
  },
  {
   "cell_type": "code",
   "execution_count": null,
   "id": "c64e6323-ba1c-4204-9794-2853852101b5",
   "metadata": {},
   "outputs": [],
   "source": []
  }
 ],
 "metadata": {
  "kernelspec": {
   "display_name": "Python 3 (ipykernel)",
   "language": "python",
   "name": "python3"
  },
  "language_info": {
   "codemirror_mode": {
    "name": "ipython",
    "version": 3
   },
   "file_extension": ".py",
   "mimetype": "text/x-python",
   "name": "python",
   "nbconvert_exporter": "python",
   "pygments_lexer": "ipython3",
   "version": "3.12.5"
  }
 },
 "nbformat": 4,
 "nbformat_minor": 5
}
